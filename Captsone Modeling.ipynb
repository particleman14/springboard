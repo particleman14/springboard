{
 "cells": [
  {
   "cell_type": "code",
   "execution_count": 28,
   "metadata": {
    "ExecuteTime": {
     "end_time": "2020-11-15T14:52:21.626210Z",
     "start_time": "2020-11-15T14:52:21.622210Z"
    }
   },
   "outputs": [],
   "source": [
    "import json \n",
    "import pandas as pd\n",
    "import numpy as np\n",
    "import matplotlib.pyplot as plt\n",
    "import seaborn as sns\n",
    "from sklearn.preprocessing import LabelEncoder\n",
    "from sklearn.model_selection import train_test_split,cross_val_score,RandomizedSearchCV\n",
    "from sklearn.metrics import accuracy_score,roc_auc_score,roc_curve,classification_report, confusion_matrix\n",
    "import xgboost as xgb\n"
   ]
  },
  {
   "cell_type": "code",
   "execution_count": 3,
   "metadata": {
    "ExecuteTime": {
     "end_time": "2020-11-15T13:31:10.787210Z",
     "start_time": "2020-11-15T13:30:52.113210Z"
    }
   },
   "outputs": [],
   "source": [
    "df = pd.read_json('transactionsjson.json',lines=True)"
   ]
  },
  {
   "cell_type": "code",
   "execution_count": 4,
   "metadata": {
    "ExecuteTime": {
     "end_time": "2020-11-15T13:31:11.853210Z",
     "start_time": "2020-11-15T13:31:11.847210Z"
    }
   },
   "outputs": [
    {
     "data": {
      "text/plain": [
       "Index(['accountNumber', 'customerId', 'creditLimit', 'availableMoney',\n",
       "       'transactionDateTime', 'transactionAmount', 'merchantName',\n",
       "       'acqCountry', 'merchantCountryCode', 'posEntryMode', 'posConditionCode',\n",
       "       'merchantCategoryCode', 'currentExpDate', 'accountOpenDate',\n",
       "       'dateOfLastAddressChange', 'cardCVV', 'enteredCVV', 'cardLast4Digits',\n",
       "       'transactionType', 'echoBuffer', 'currentBalance', 'merchantCity',\n",
       "       'merchantState', 'merchantZip', 'cardPresent', 'posOnPremises',\n",
       "       'recurringAuthInd', 'expirationDateKeyInMatch', 'isFraud'],\n",
       "      dtype='object')"
      ]
     },
     "execution_count": 4,
     "metadata": {},
     "output_type": "execute_result"
    }
   ],
   "source": [
    "df.columns"
   ]
  },
  {
   "cell_type": "code",
   "execution_count": 5,
   "metadata": {
    "ExecuteTime": {
     "end_time": "2020-11-15T13:31:13.059210Z",
     "start_time": "2020-11-15T13:31:12.942210Z"
    }
   },
   "outputs": [],
   "source": [
    "#Select Relevant Columns  \n",
    "df_model = df[['creditLimit','availableMoney','transactionAmount','transactionType','currentBalance',\n",
    "               'posEntryMode','cardPresent','recurringAuthInd','expirationDateKeyInMatch','isFraud',\n",
    "               'acqCountry','merchantCountryCode','posConditionCode']]"
   ]
  },
  {
   "cell_type": "code",
   "execution_count": 6,
   "metadata": {
    "ExecuteTime": {
     "end_time": "2020-11-15T13:31:15.090210Z",
     "start_time": "2020-11-15T13:31:14.086210Z"
    }
   },
   "outputs": [],
   "source": [
    "#get dummies\n",
    "df_dum = pd.get_dummies(df_model,drop_first=True)"
   ]
  },
  {
   "cell_type": "code",
   "execution_count": 7,
   "metadata": {
    "ExecuteTime": {
     "end_time": "2020-11-15T13:31:16.270210Z",
     "start_time": "2020-11-15T13:31:16.248210Z"
    }
   },
   "outputs": [
    {
     "data": {
      "text/html": [
       "<div>\n",
       "<style scoped>\n",
       "    .dataframe tbody tr th:only-of-type {\n",
       "        vertical-align: middle;\n",
       "    }\n",
       "\n",
       "    .dataframe tbody tr th {\n",
       "        vertical-align: top;\n",
       "    }\n",
       "\n",
       "    .dataframe thead th {\n",
       "        text-align: right;\n",
       "    }\n",
       "</style>\n",
       "<table border=\"1\" class=\"dataframe\">\n",
       "  <thead>\n",
       "    <tr style=\"text-align: right;\">\n",
       "      <th></th>\n",
       "      <th>creditLimit</th>\n",
       "      <th>availableMoney</th>\n",
       "      <th>transactionAmount</th>\n",
       "      <th>currentBalance</th>\n",
       "      <th>cardPresent</th>\n",
       "      <th>expirationDateKeyInMatch</th>\n",
       "      <th>isFraud</th>\n",
       "      <th>transactionType_ADDRESS_VERIFICATION</th>\n",
       "      <th>transactionType_PURCHASE</th>\n",
       "      <th>transactionType_REVERSAL</th>\n",
       "      <th>...</th>\n",
       "      <th>acqCountry_MEX</th>\n",
       "      <th>acqCountry_PR</th>\n",
       "      <th>acqCountry_US</th>\n",
       "      <th>merchantCountryCode_CAN</th>\n",
       "      <th>merchantCountryCode_MEX</th>\n",
       "      <th>merchantCountryCode_PR</th>\n",
       "      <th>merchantCountryCode_US</th>\n",
       "      <th>posConditionCode_01</th>\n",
       "      <th>posConditionCode_08</th>\n",
       "      <th>posConditionCode_99</th>\n",
       "    </tr>\n",
       "  </thead>\n",
       "  <tbody>\n",
       "    <tr>\n",
       "      <th>0</th>\n",
       "      <td>5000</td>\n",
       "      <td>5000.0</td>\n",
       "      <td>98.55</td>\n",
       "      <td>0.0</td>\n",
       "      <td>False</td>\n",
       "      <td>False</td>\n",
       "      <td>False</td>\n",
       "      <td>0</td>\n",
       "      <td>1</td>\n",
       "      <td>0</td>\n",
       "      <td>...</td>\n",
       "      <td>0</td>\n",
       "      <td>0</td>\n",
       "      <td>1</td>\n",
       "      <td>0</td>\n",
       "      <td>0</td>\n",
       "      <td>0</td>\n",
       "      <td>1</td>\n",
       "      <td>1</td>\n",
       "      <td>0</td>\n",
       "      <td>0</td>\n",
       "    </tr>\n",
       "    <tr>\n",
       "      <th>1</th>\n",
       "      <td>5000</td>\n",
       "      <td>5000.0</td>\n",
       "      <td>74.51</td>\n",
       "      <td>0.0</td>\n",
       "      <td>True</td>\n",
       "      <td>False</td>\n",
       "      <td>False</td>\n",
       "      <td>0</td>\n",
       "      <td>1</td>\n",
       "      <td>0</td>\n",
       "      <td>...</td>\n",
       "      <td>0</td>\n",
       "      <td>0</td>\n",
       "      <td>1</td>\n",
       "      <td>0</td>\n",
       "      <td>0</td>\n",
       "      <td>0</td>\n",
       "      <td>1</td>\n",
       "      <td>1</td>\n",
       "      <td>0</td>\n",
       "      <td>0</td>\n",
       "    </tr>\n",
       "    <tr>\n",
       "      <th>2</th>\n",
       "      <td>5000</td>\n",
       "      <td>5000.0</td>\n",
       "      <td>7.47</td>\n",
       "      <td>0.0</td>\n",
       "      <td>False</td>\n",
       "      <td>False</td>\n",
       "      <td>False</td>\n",
       "      <td>0</td>\n",
       "      <td>1</td>\n",
       "      <td>0</td>\n",
       "      <td>...</td>\n",
       "      <td>0</td>\n",
       "      <td>0</td>\n",
       "      <td>1</td>\n",
       "      <td>0</td>\n",
       "      <td>0</td>\n",
       "      <td>0</td>\n",
       "      <td>1</td>\n",
       "      <td>1</td>\n",
       "      <td>0</td>\n",
       "      <td>0</td>\n",
       "    </tr>\n",
       "    <tr>\n",
       "      <th>3</th>\n",
       "      <td>5000</td>\n",
       "      <td>5000.0</td>\n",
       "      <td>7.47</td>\n",
       "      <td>0.0</td>\n",
       "      <td>False</td>\n",
       "      <td>False</td>\n",
       "      <td>False</td>\n",
       "      <td>0</td>\n",
       "      <td>1</td>\n",
       "      <td>0</td>\n",
       "      <td>...</td>\n",
       "      <td>0</td>\n",
       "      <td>0</td>\n",
       "      <td>1</td>\n",
       "      <td>0</td>\n",
       "      <td>0</td>\n",
       "      <td>0</td>\n",
       "      <td>1</td>\n",
       "      <td>1</td>\n",
       "      <td>0</td>\n",
       "      <td>0</td>\n",
       "    </tr>\n",
       "    <tr>\n",
       "      <th>4</th>\n",
       "      <td>5000</td>\n",
       "      <td>5000.0</td>\n",
       "      <td>71.18</td>\n",
       "      <td>0.0</td>\n",
       "      <td>True</td>\n",
       "      <td>False</td>\n",
       "      <td>False</td>\n",
       "      <td>0</td>\n",
       "      <td>1</td>\n",
       "      <td>0</td>\n",
       "      <td>...</td>\n",
       "      <td>0</td>\n",
       "      <td>0</td>\n",
       "      <td>1</td>\n",
       "      <td>0</td>\n",
       "      <td>0</td>\n",
       "      <td>0</td>\n",
       "      <td>1</td>\n",
       "      <td>1</td>\n",
       "      <td>0</td>\n",
       "      <td>0</td>\n",
       "    </tr>\n",
       "  </tbody>\n",
       "</table>\n",
       "<p>5 rows × 26 columns</p>\n",
       "</div>"
      ],
      "text/plain": [
       "   creditLimit  availableMoney  transactionAmount  currentBalance  \\\n",
       "0         5000          5000.0              98.55             0.0   \n",
       "1         5000          5000.0              74.51             0.0   \n",
       "2         5000          5000.0               7.47             0.0   \n",
       "3         5000          5000.0               7.47             0.0   \n",
       "4         5000          5000.0              71.18             0.0   \n",
       "\n",
       "   cardPresent  expirationDateKeyInMatch  isFraud  \\\n",
       "0        False                     False    False   \n",
       "1         True                     False    False   \n",
       "2        False                     False    False   \n",
       "3        False                     False    False   \n",
       "4         True                     False    False   \n",
       "\n",
       "   transactionType_ADDRESS_VERIFICATION  transactionType_PURCHASE  \\\n",
       "0                                     0                         1   \n",
       "1                                     0                         1   \n",
       "2                                     0                         1   \n",
       "3                                     0                         1   \n",
       "4                                     0                         1   \n",
       "\n",
       "   transactionType_REVERSAL  ...  acqCountry_MEX  acqCountry_PR  \\\n",
       "0                         0  ...               0              0   \n",
       "1                         0  ...               0              0   \n",
       "2                         0  ...               0              0   \n",
       "3                         0  ...               0              0   \n",
       "4                         0  ...               0              0   \n",
       "\n",
       "   acqCountry_US  merchantCountryCode_CAN  merchantCountryCode_MEX  \\\n",
       "0              1                        0                        0   \n",
       "1              1                        0                        0   \n",
       "2              1                        0                        0   \n",
       "3              1                        0                        0   \n",
       "4              1                        0                        0   \n",
       "\n",
       "   merchantCountryCode_PR  merchantCountryCode_US  posConditionCode_01  \\\n",
       "0                       0                       1                    1   \n",
       "1                       0                       1                    1   \n",
       "2                       0                       1                    1   \n",
       "3                       0                       1                    1   \n",
       "4                       0                       1                    1   \n",
       "\n",
       "   posConditionCode_08  posConditionCode_99  \n",
       "0                    0                    0  \n",
       "1                    0                    0  \n",
       "2                    0                    0  \n",
       "3                    0                    0  \n",
       "4                    0                    0  \n",
       "\n",
       "[5 rows x 26 columns]"
      ]
     },
     "execution_count": 7,
     "metadata": {},
     "output_type": "execute_result"
    }
   ],
   "source": [
    "df_dum.head()"
   ]
  },
  {
   "cell_type": "code",
   "execution_count": 13,
   "metadata": {
    "ExecuteTime": {
     "end_time": "2020-11-15T13:43:08.480210Z",
     "start_time": "2020-11-15T13:43:08.131210Z"
    }
   },
   "outputs": [
    {
     "data": {
      "text/html": [
       "<div>\n",
       "<style scoped>\n",
       "    .dataframe tbody tr th:only-of-type {\n",
       "        vertical-align: middle;\n",
       "    }\n",
       "\n",
       "    .dataframe tbody tr th {\n",
       "        vertical-align: top;\n",
       "    }\n",
       "\n",
       "    .dataframe thead th {\n",
       "        text-align: right;\n",
       "    }\n",
       "</style>\n",
       "<table border=\"1\" class=\"dataframe\">\n",
       "  <thead>\n",
       "    <tr style=\"text-align: right;\">\n",
       "      <th></th>\n",
       "      <th>creditLimit</th>\n",
       "      <th>availableMoney</th>\n",
       "      <th>transactionAmount</th>\n",
       "      <th>currentBalance</th>\n",
       "      <th>cardPresent</th>\n",
       "      <th>expirationDateKeyInMatch</th>\n",
       "      <th>isFraud</th>\n",
       "      <th>transactionType_ADDRESS_VERIFICATION</th>\n",
       "      <th>transactionType_PURCHASE</th>\n",
       "      <th>transactionType_REVERSAL</th>\n",
       "      <th>...</th>\n",
       "      <th>acqCountry_MEX</th>\n",
       "      <th>acqCountry_PR</th>\n",
       "      <th>acqCountry_US</th>\n",
       "      <th>merchantCountryCode_CAN</th>\n",
       "      <th>merchantCountryCode_MEX</th>\n",
       "      <th>merchantCountryCode_PR</th>\n",
       "      <th>merchantCountryCode_US</th>\n",
       "      <th>posConditionCode_01</th>\n",
       "      <th>posConditionCode_08</th>\n",
       "      <th>posConditionCode_99</th>\n",
       "    </tr>\n",
       "  </thead>\n",
       "  <tbody>\n",
       "    <tr>\n",
       "      <th>0</th>\n",
       "      <td>5000</td>\n",
       "      <td>5000.00</td>\n",
       "      <td>98.55</td>\n",
       "      <td>0.00</td>\n",
       "      <td>0.0</td>\n",
       "      <td>0.0</td>\n",
       "      <td>0.0</td>\n",
       "      <td>0</td>\n",
       "      <td>1</td>\n",
       "      <td>0</td>\n",
       "      <td>...</td>\n",
       "      <td>0</td>\n",
       "      <td>0</td>\n",
       "      <td>1</td>\n",
       "      <td>0</td>\n",
       "      <td>0</td>\n",
       "      <td>0</td>\n",
       "      <td>1</td>\n",
       "      <td>1</td>\n",
       "      <td>0</td>\n",
       "      <td>0</td>\n",
       "    </tr>\n",
       "    <tr>\n",
       "      <th>1</th>\n",
       "      <td>5000</td>\n",
       "      <td>5000.00</td>\n",
       "      <td>74.51</td>\n",
       "      <td>0.00</td>\n",
       "      <td>1.0</td>\n",
       "      <td>0.0</td>\n",
       "      <td>0.0</td>\n",
       "      <td>0</td>\n",
       "      <td>1</td>\n",
       "      <td>0</td>\n",
       "      <td>...</td>\n",
       "      <td>0</td>\n",
       "      <td>0</td>\n",
       "      <td>1</td>\n",
       "      <td>0</td>\n",
       "      <td>0</td>\n",
       "      <td>0</td>\n",
       "      <td>1</td>\n",
       "      <td>1</td>\n",
       "      <td>0</td>\n",
       "      <td>0</td>\n",
       "    </tr>\n",
       "    <tr>\n",
       "      <th>2</th>\n",
       "      <td>5000</td>\n",
       "      <td>5000.00</td>\n",
       "      <td>7.47</td>\n",
       "      <td>0.00</td>\n",
       "      <td>0.0</td>\n",
       "      <td>0.0</td>\n",
       "      <td>0.0</td>\n",
       "      <td>0</td>\n",
       "      <td>1</td>\n",
       "      <td>0</td>\n",
       "      <td>...</td>\n",
       "      <td>0</td>\n",
       "      <td>0</td>\n",
       "      <td>1</td>\n",
       "      <td>0</td>\n",
       "      <td>0</td>\n",
       "      <td>0</td>\n",
       "      <td>1</td>\n",
       "      <td>1</td>\n",
       "      <td>0</td>\n",
       "      <td>0</td>\n",
       "    </tr>\n",
       "    <tr>\n",
       "      <th>3</th>\n",
       "      <td>5000</td>\n",
       "      <td>5000.00</td>\n",
       "      <td>7.47</td>\n",
       "      <td>0.00</td>\n",
       "      <td>0.0</td>\n",
       "      <td>0.0</td>\n",
       "      <td>0.0</td>\n",
       "      <td>0</td>\n",
       "      <td>1</td>\n",
       "      <td>0</td>\n",
       "      <td>...</td>\n",
       "      <td>0</td>\n",
       "      <td>0</td>\n",
       "      <td>1</td>\n",
       "      <td>0</td>\n",
       "      <td>0</td>\n",
       "      <td>0</td>\n",
       "      <td>1</td>\n",
       "      <td>1</td>\n",
       "      <td>0</td>\n",
       "      <td>0</td>\n",
       "    </tr>\n",
       "    <tr>\n",
       "      <th>4</th>\n",
       "      <td>5000</td>\n",
       "      <td>5000.00</td>\n",
       "      <td>71.18</td>\n",
       "      <td>0.00</td>\n",
       "      <td>1.0</td>\n",
       "      <td>0.0</td>\n",
       "      <td>0.0</td>\n",
       "      <td>0</td>\n",
       "      <td>1</td>\n",
       "      <td>0</td>\n",
       "      <td>...</td>\n",
       "      <td>0</td>\n",
       "      <td>0</td>\n",
       "      <td>1</td>\n",
       "      <td>0</td>\n",
       "      <td>0</td>\n",
       "      <td>0</td>\n",
       "      <td>1</td>\n",
       "      <td>1</td>\n",
       "      <td>0</td>\n",
       "      <td>0</td>\n",
       "    </tr>\n",
       "    <tr>\n",
       "      <th>...</th>\n",
       "      <td>...</td>\n",
       "      <td>...</td>\n",
       "      <td>...</td>\n",
       "      <td>...</td>\n",
       "      <td>...</td>\n",
       "      <td>...</td>\n",
       "      <td>...</td>\n",
       "      <td>...</td>\n",
       "      <td>...</td>\n",
       "      <td>...</td>\n",
       "      <td>...</td>\n",
       "      <td>...</td>\n",
       "      <td>...</td>\n",
       "      <td>...</td>\n",
       "      <td>...</td>\n",
       "      <td>...</td>\n",
       "      <td>...</td>\n",
       "      <td>...</td>\n",
       "      <td>...</td>\n",
       "      <td>...</td>\n",
       "      <td>...</td>\n",
       "    </tr>\n",
       "    <tr>\n",
       "      <th>786358</th>\n",
       "      <td>50000</td>\n",
       "      <td>48904.96</td>\n",
       "      <td>119.92</td>\n",
       "      <td>1095.04</td>\n",
       "      <td>0.0</td>\n",
       "      <td>0.0</td>\n",
       "      <td>0.0</td>\n",
       "      <td>0</td>\n",
       "      <td>1</td>\n",
       "      <td>0</td>\n",
       "      <td>...</td>\n",
       "      <td>0</td>\n",
       "      <td>0</td>\n",
       "      <td>1</td>\n",
       "      <td>0</td>\n",
       "      <td>0</td>\n",
       "      <td>0</td>\n",
       "      <td>1</td>\n",
       "      <td>1</td>\n",
       "      <td>0</td>\n",
       "      <td>0</td>\n",
       "    </tr>\n",
       "    <tr>\n",
       "      <th>786359</th>\n",
       "      <td>50000</td>\n",
       "      <td>48785.04</td>\n",
       "      <td>18.89</td>\n",
       "      <td>1214.96</td>\n",
       "      <td>0.0</td>\n",
       "      <td>0.0</td>\n",
       "      <td>0.0</td>\n",
       "      <td>0</td>\n",
       "      <td>1</td>\n",
       "      <td>0</td>\n",
       "      <td>...</td>\n",
       "      <td>0</td>\n",
       "      <td>0</td>\n",
       "      <td>1</td>\n",
       "      <td>0</td>\n",
       "      <td>0</td>\n",
       "      <td>0</td>\n",
       "      <td>1</td>\n",
       "      <td>1</td>\n",
       "      <td>0</td>\n",
       "      <td>0</td>\n",
       "    </tr>\n",
       "    <tr>\n",
       "      <th>786360</th>\n",
       "      <td>50000</td>\n",
       "      <td>48766.15</td>\n",
       "      <td>49.43</td>\n",
       "      <td>1233.85</td>\n",
       "      <td>0.0</td>\n",
       "      <td>0.0</td>\n",
       "      <td>0.0</td>\n",
       "      <td>0</td>\n",
       "      <td>1</td>\n",
       "      <td>0</td>\n",
       "      <td>...</td>\n",
       "      <td>0</td>\n",
       "      <td>0</td>\n",
       "      <td>1</td>\n",
       "      <td>0</td>\n",
       "      <td>0</td>\n",
       "      <td>0</td>\n",
       "      <td>1</td>\n",
       "      <td>1</td>\n",
       "      <td>0</td>\n",
       "      <td>0</td>\n",
       "    </tr>\n",
       "    <tr>\n",
       "      <th>786361</th>\n",
       "      <td>50000</td>\n",
       "      <td>48716.72</td>\n",
       "      <td>49.89</td>\n",
       "      <td>1283.28</td>\n",
       "      <td>0.0</td>\n",
       "      <td>0.0</td>\n",
       "      <td>0.0</td>\n",
       "      <td>0</td>\n",
       "      <td>1</td>\n",
       "      <td>0</td>\n",
       "      <td>...</td>\n",
       "      <td>0</td>\n",
       "      <td>0</td>\n",
       "      <td>1</td>\n",
       "      <td>0</td>\n",
       "      <td>0</td>\n",
       "      <td>0</td>\n",
       "      <td>1</td>\n",
       "      <td>0</td>\n",
       "      <td>0</td>\n",
       "      <td>1</td>\n",
       "    </tr>\n",
       "    <tr>\n",
       "      <th>786362</th>\n",
       "      <td>50000</td>\n",
       "      <td>48666.83</td>\n",
       "      <td>72.18</td>\n",
       "      <td>1333.17</td>\n",
       "      <td>0.0</td>\n",
       "      <td>0.0</td>\n",
       "      <td>0.0</td>\n",
       "      <td>0</td>\n",
       "      <td>1</td>\n",
       "      <td>0</td>\n",
       "      <td>...</td>\n",
       "      <td>0</td>\n",
       "      <td>0</td>\n",
       "      <td>1</td>\n",
       "      <td>0</td>\n",
       "      <td>0</td>\n",
       "      <td>0</td>\n",
       "      <td>1</td>\n",
       "      <td>1</td>\n",
       "      <td>0</td>\n",
       "      <td>0</td>\n",
       "    </tr>\n",
       "  </tbody>\n",
       "</table>\n",
       "<p>786363 rows × 26 columns</p>\n",
       "</div>"
      ],
      "text/plain": [
       "        creditLimit  availableMoney  transactionAmount  currentBalance  \\\n",
       "0              5000         5000.00              98.55            0.00   \n",
       "1              5000         5000.00              74.51            0.00   \n",
       "2              5000         5000.00               7.47            0.00   \n",
       "3              5000         5000.00               7.47            0.00   \n",
       "4              5000         5000.00              71.18            0.00   \n",
       "...             ...             ...                ...             ...   \n",
       "786358        50000        48904.96             119.92         1095.04   \n",
       "786359        50000        48785.04              18.89         1214.96   \n",
       "786360        50000        48766.15              49.43         1233.85   \n",
       "786361        50000        48716.72              49.89         1283.28   \n",
       "786362        50000        48666.83              72.18         1333.17   \n",
       "\n",
       "        cardPresent  expirationDateKeyInMatch  isFraud  \\\n",
       "0               0.0                       0.0      0.0   \n",
       "1               1.0                       0.0      0.0   \n",
       "2               0.0                       0.0      0.0   \n",
       "3               0.0                       0.0      0.0   \n",
       "4               1.0                       0.0      0.0   \n",
       "...             ...                       ...      ...   \n",
       "786358          0.0                       0.0      0.0   \n",
       "786359          0.0                       0.0      0.0   \n",
       "786360          0.0                       0.0      0.0   \n",
       "786361          0.0                       0.0      0.0   \n",
       "786362          0.0                       0.0      0.0   \n",
       "\n",
       "        transactionType_ADDRESS_VERIFICATION  transactionType_PURCHASE  \\\n",
       "0                                          0                         1   \n",
       "1                                          0                         1   \n",
       "2                                          0                         1   \n",
       "3                                          0                         1   \n",
       "4                                          0                         1   \n",
       "...                                      ...                       ...   \n",
       "786358                                     0                         1   \n",
       "786359                                     0                         1   \n",
       "786360                                     0                         1   \n",
       "786361                                     0                         1   \n",
       "786362                                     0                         1   \n",
       "\n",
       "        transactionType_REVERSAL  ...  acqCountry_MEX  acqCountry_PR  \\\n",
       "0                              0  ...               0              0   \n",
       "1                              0  ...               0              0   \n",
       "2                              0  ...               0              0   \n",
       "3                              0  ...               0              0   \n",
       "4                              0  ...               0              0   \n",
       "...                          ...  ...             ...            ...   \n",
       "786358                         0  ...               0              0   \n",
       "786359                         0  ...               0              0   \n",
       "786360                         0  ...               0              0   \n",
       "786361                         0  ...               0              0   \n",
       "786362                         0  ...               0              0   \n",
       "\n",
       "        acqCountry_US  merchantCountryCode_CAN  merchantCountryCode_MEX  \\\n",
       "0                   1                        0                        0   \n",
       "1                   1                        0                        0   \n",
       "2                   1                        0                        0   \n",
       "3                   1                        0                        0   \n",
       "4                   1                        0                        0   \n",
       "...               ...                      ...                      ...   \n",
       "786358              1                        0                        0   \n",
       "786359              1                        0                        0   \n",
       "786360              1                        0                        0   \n",
       "786361              1                        0                        0   \n",
       "786362              1                        0                        0   \n",
       "\n",
       "        merchantCountryCode_PR  merchantCountryCode_US  posConditionCode_01  \\\n",
       "0                            0                       1                    1   \n",
       "1                            0                       1                    1   \n",
       "2                            0                       1                    1   \n",
       "3                            0                       1                    1   \n",
       "4                            0                       1                    1   \n",
       "...                        ...                     ...                  ...   \n",
       "786358                       0                       1                    1   \n",
       "786359                       0                       1                    1   \n",
       "786360                       0                       1                    1   \n",
       "786361                       0                       1                    0   \n",
       "786362                       0                       1                    1   \n",
       "\n",
       "        posConditionCode_08  posConditionCode_99  \n",
       "0                         0                    0  \n",
       "1                         0                    0  \n",
       "2                         0                    0  \n",
       "3                         0                    0  \n",
       "4                         0                    0  \n",
       "...                     ...                  ...  \n",
       "786358                    0                    0  \n",
       "786359                    0                    0  \n",
       "786360                    0                    0  \n",
       "786361                    0                    1  \n",
       "786362                    0                    0  \n",
       "\n",
       "[786363 rows x 26 columns]"
      ]
     },
     "execution_count": 13,
     "metadata": {},
     "output_type": "execute_result"
    }
   ],
   "source": [
    "df_dum.replace(True,1)\n",
    "df_dum.replace(False,0)"
   ]
  },
  {
   "cell_type": "code",
   "execution_count": 8,
   "metadata": {
    "ExecuteTime": {
     "end_time": "2020-11-12T02:16:54.204073Z",
     "start_time": "2020-11-12T02:16:54.198073Z"
    }
   },
   "outputs": [
    {
     "data": {
      "text/plain": [
       "Index(['creditLimit', 'availableMoney', 'transactionAmount', 'currentBalance',\n",
       "       'cardPresent', 'expirationDateKeyInMatch', 'isFraud',\n",
       "       'transactionType_ADDRESS_VERIFICATION', 'transactionType_PURCHASE',\n",
       "       'transactionType_REVERSAL', 'posEntryMode_02', 'posEntryMode_05',\n",
       "       'posEntryMode_09', 'posEntryMode_80', 'posEntryMode_90',\n",
       "       'acqCountry_CAN', 'acqCountry_MEX', 'acqCountry_PR', 'acqCountry_US',\n",
       "       'merchantCountryCode_CAN', 'merchantCountryCode_MEX',\n",
       "       'merchantCountryCode_PR', 'merchantCountryCode_US',\n",
       "       'posConditionCode_01', 'posConditionCode_08', 'posConditionCode_99'],\n",
       "      dtype='object')"
      ]
     },
     "execution_count": 8,
     "metadata": {},
     "output_type": "execute_result"
    }
   ],
   "source": [
    "df_dum.columns"
   ]
  },
  {
   "cell_type": "code",
   "execution_count": 9,
   "metadata": {
    "ExecuteTime": {
     "end_time": "2020-11-12T02:16:59.065351Z",
     "start_time": "2020-11-12T02:16:59.060351Z"
    }
   },
   "outputs": [
    {
     "data": {
      "text/plain": [
       "{'acqCountry_CAN',\n",
       " 'acqCountry_MEX',\n",
       " 'acqCountry_PR',\n",
       " 'acqCountry_US',\n",
       " 'availableMoney',\n",
       " 'cardPresent',\n",
       " 'creditLimit',\n",
       " 'currentBalance',\n",
       " 'expirationDateKeyInMatch',\n",
       " 'isFraud',\n",
       " 'merchantCountryCode_CAN',\n",
       " 'merchantCountryCode_MEX',\n",
       " 'merchantCountryCode_PR',\n",
       " 'merchantCountryCode_US',\n",
       " 'posConditionCode_01',\n",
       " 'posConditionCode_08',\n",
       " 'posConditionCode_99',\n",
       " 'posEntryMode_02',\n",
       " 'posEntryMode_05',\n",
       " 'posEntryMode_09',\n",
       " 'posEntryMode_80',\n",
       " 'posEntryMode_90',\n",
       " 'transactionAmount',\n",
       " 'transactionType_ADDRESS_VERIFICATION',\n",
       " 'transactionType_PURCHASE',\n",
       " 'transactionType_REVERSAL'}"
      ]
     },
     "execution_count": 9,
     "metadata": {},
     "output_type": "execute_result"
    }
   ],
   "source": [
    "set(df_dum.columns)"
   ]
  },
  {
   "cell_type": "code",
   "execution_count": 9,
   "metadata": {
    "ExecuteTime": {
     "end_time": "2020-11-15T13:42:25.843210Z",
     "start_time": "2020-11-15T13:42:25.837210Z"
    }
   },
   "outputs": [
    {
     "data": {
      "text/plain": [
       "26"
      ]
     },
     "execution_count": 9,
     "metadata": {},
     "output_type": "execute_result"
    }
   ],
   "source": [
    "len(df_dum.columns)"
   ]
  },
  {
   "cell_type": "code",
   "execution_count": 10,
   "metadata": {
    "ExecuteTime": {
     "end_time": "2020-11-15T13:42:26.996210Z",
     "start_time": "2020-11-15T13:42:26.992210Z"
    }
   },
   "outputs": [
    {
     "data": {
      "text/plain": [
       "26"
      ]
     },
     "execution_count": 10,
     "metadata": {},
     "output_type": "execute_result"
    }
   ],
   "source": [
    "len(set(df_dum.columns))"
   ]
  },
  {
   "cell_type": "code",
   "execution_count": null,
   "metadata": {
    "ExecuteTime": {
     "end_time": "2020-11-03T00:38:40.861175Z",
     "start_time": "2020-11-03T00:38:40.858174Z"
    }
   },
   "outputs": [],
   "source": []
  },
  {
   "cell_type": "code",
   "execution_count": 11,
   "metadata": {
    "ExecuteTime": {
     "end_time": "2020-11-15T13:42:30.910210Z",
     "start_time": "2020-11-15T13:42:30.873210Z"
    }
   },
   "outputs": [],
   "source": [
    "#split data \n",
    "\n",
    "X = df_dum.drop('isFraud', axis=1)\n",
    "y = df_dum.isFraud\n"
   ]
  },
  {
   "cell_type": "code",
   "execution_count": 79,
   "metadata": {
    "ExecuteTime": {
     "end_time": "2020-11-16T23:59:41.034060Z",
     "start_time": "2020-11-16T23:59:40.879051Z"
    }
   },
   "outputs": [],
   "source": [
    "#Train Test Split \n",
    "X_train, X_test, y_train, y_test = train_test_split(X, y, test_size = 0.3, random_state=123,)"
   ]
  },
  {
   "cell_type": "code",
   "execution_count": null,
   "metadata": {},
   "outputs": [],
   "source": [
    "#Run XGBClassifier  start with some values to get a baseline.  Then get feature importantce. Then tune Hyperparameters.\n",
    "\n"
   ]
  },
  {
   "cell_type": "code",
   "execution_count": 80,
   "metadata": {
    "ExecuteTime": {
     "end_time": "2020-11-16T23:59:46.444369Z",
     "start_time": "2020-11-16T23:59:43.096178Z"
    }
   },
   "outputs": [
    {
     "data": {
      "text/plain": [
       "XGBClassifier(base_score=0.5, booster='gbtree', colsample_bylevel=1,\n",
       "              colsample_bynode=1, colsample_bytree=1, gamma=0, gpu_id=0,\n",
       "              importance_type='gain', interaction_constraints='',\n",
       "              learning_rate=0.300000012, max_delta_step=0, max_depth=6,\n",
       "              min_child_weight=1, missing=nan,\n",
       "              monotone_constraints='(0,0,0,0,0,0,0,0,0,0,0,0,0,0,0,0,0,0,0,0,0,0,0,0,0)',\n",
       "              n_estimators=100, n_jobs=0, num_parallel_tree=1, random_state=0,\n",
       "              reg_alpha=0, reg_lambda=1, scale_pos_weight=1, subsample=1,\n",
       "              tree_method='gpu_hist', validate_parameters=1, verbosity=None)"
      ]
     },
     "execution_count": 80,
     "metadata": {},
     "output_type": "execute_result"
    }
   ],
   "source": [
    "xgbcl = xgb.XGBClassifier(objective='binary:logistic',\n",
    "                         tree_method='gpu_hist')\n",
    "\n",
    "# Fit the classifier to the training set\n",
    "xgbcl.fit(X_train, y_train)"
   ]
  },
  {
   "cell_type": "code",
   "execution_count": 81,
   "metadata": {
    "ExecuteTime": {
     "end_time": "2020-11-16T23:59:48.284474Z",
     "start_time": "2020-11-16T23:59:47.802447Z"
    }
   },
   "outputs": [
    {
     "name": "stdout",
     "output_type": "stream",
     "text": [
      "accuracy: 0.984130\n"
     ]
    }
   ],
   "source": [
    "# Predict the labels of the test set: preds\n",
    "y_pred = xgbcl.predict(X_test)\n",
    "\n",
    "# Compute the accuracy: accuracy\n",
    "accuracy = float(np.sum(y_pred==y_test))/y_test.shape[0]\n",
    "print(\"accuracy: %f\" % (accuracy))\n",
    "\n",
    "\n"
   ]
  },
  {
   "cell_type": "code",
   "execution_count": 82,
   "metadata": {
    "ExecuteTime": {
     "end_time": "2020-11-16T23:59:50.786618Z",
     "start_time": "2020-11-16T23:59:50.560605Z"
    }
   },
   "outputs": [
    {
     "name": "stdout",
     "output_type": "stream",
     "text": [
      "[[154776      2]\n",
      " [  2494      1]]\n",
      "              precision    recall  f1-score   support\n",
      "\n",
      "       False       0.98      1.00      0.99    154778\n",
      "        True       0.33      0.00      0.00      2495\n",
      "\n",
      "    accuracy                           0.98    157273\n",
      "   macro avg       0.66      0.50      0.50    157273\n",
      "weighted avg       0.97      0.98      0.98    157273\n",
      "\n"
     ]
    }
   ],
   "source": [
    "#print confusion matrix, classification report\n",
    "print(confusion_matrix(y_test, y_pred))\n",
    "print(classification_report(y_test, y_pred))"
   ]
  },
  {
   "cell_type": "code",
   "execution_count": 99,
   "metadata": {
    "ExecuteTime": {
     "end_time": "2020-11-17T01:58:10.045672Z",
     "start_time": "2020-11-17T01:57:04.019896Z"
    }
   },
   "outputs": [
    {
     "name": "stdout",
     "output_type": "stream",
     "text": [
      "    train-auc-mean  train-auc-std  test-auc-mean  test-auc-std\n",
      "0         0.715408       0.001241       0.713897      0.003956\n",
      "1         0.728149       0.002828       0.724931      0.003980\n",
      "2         0.733270       0.001663       0.729546      0.002982\n",
      "3         0.736081       0.000521       0.732225      0.002115\n",
      "4         0.737430       0.000510       0.733050      0.002029\n",
      "5         0.739086       0.000434       0.733532      0.002004\n",
      "6         0.740223       0.000403       0.733929      0.001657\n",
      "7         0.741779       0.000172       0.734162      0.001927\n",
      "8         0.743835       0.000535       0.734450      0.002349\n",
      "9         0.745856       0.000242       0.735304      0.002260\n",
      "10        0.747431       0.000503       0.735657      0.001889\n",
      "11        0.749047       0.000372       0.735707      0.001757\n",
      "12        0.750749       0.000666       0.736178      0.001553\n",
      "13        0.752499       0.000665       0.736762      0.001209\n",
      "14        0.754164       0.000925       0.737268      0.001296\n",
      "15        0.755860       0.000930       0.737721      0.001216\n",
      "16        0.757618       0.000913       0.738380      0.000852\n",
      "17        0.759203       0.000618       0.738414      0.001069\n",
      "18        0.760679       0.000853       0.738989      0.001045\n",
      "19        0.762499       0.000718       0.739505      0.001091\n",
      "0.7395053999999999\n"
     ]
    }
   ],
   "source": [
    "#get area under curve (AUC) \n",
    "dmatrix = xgb.DMatrix(data=X, label=y)\n",
    "params = {\"objective\":\"binary:logistic\"}\n",
    "#Perform cross_validation: cv_results\n",
    "cv_results = xgb.cv(dtrain=dmatrix, params=params, \n",
    "                    nfold=5, num_boost_round=20, \n",
    "                    metrics=\"auc\", as_pandas=True, seed=123)\n",
    "\n",
    "# Print cv_results\n",
    "print(cv_results)\n",
    "\n",
    "# Print the AUC\n",
    "print((cv_results[\"test-auc-mean\"]).iloc[-1])\n"
   ]
  },
  {
   "cell_type": "code",
   "execution_count": null,
   "metadata": {},
   "outputs": [],
   "source": []
  },
  {
   "cell_type": "code",
   "execution_count": 100,
   "metadata": {
    "ExecuteTime": {
     "end_time": "2020-11-17T01:58:43.800603Z",
     "start_time": "2020-11-17T01:58:34.086047Z"
    }
   },
   "outputs": [
    {
     "data": {
      "image/png": "[encoded data removed]",
      "text/plain": [
       "<Figure size 432x288 with 1 Axes>"
      ]
     },
     "metadata": {
      "needs_background": "light"
     },
     "output_type": "display_data"
    }
   ],
   "source": [
    "#What are the most important features in the dataset relating to fraud.  \n",
    "dmatrix = xgb.DMatrix(data=X, label=y)\n",
    "\n",
    "# Create the parameter dictionary: params\n",
    "params = {\"objective\":\"binary:logistic\"}\n",
    "\n",
    "# Train the model: \n",
    "xg_reg = xgb.train(params=params, dtrain=dmatrix, num_boost_round=10)\n",
    "\n",
    "# Plot the feature importances\n",
    "xgb.plot_importance(xg_reg)\n",
    "plt.show()"
   ]
  },
  {
   "cell_type": "code",
   "execution_count": null,
   "metadata": {},
   "outputs": [],
   "source": [
    "#It appears transaction amount is a very significant factor for determining fraud in this dataset."
   ]
  },
  {
   "cell_type": "code",
   "execution_count": null,
   "metadata": {},
   "outputs": [],
   "source": []
  },
  {
   "cell_type": "code",
   "execution_count": 64,
   "metadata": {
    "ExecuteTime": {
     "end_time": "2020-11-16T22:49:04.156724Z",
     "start_time": "2020-11-16T22:48:58.551404Z"
    }
   },
   "outputs": [
    {
     "name": "stdout",
     "output_type": "stream",
     "text": [
      "   train-error-mean  train-error-std  test-error-mean  test-error-std\n",
      "0          0.015789         0.000061         0.015791        0.000120\n",
      "1          0.015789         0.000060         0.015793        0.000122\n",
      "2          0.015789         0.000060         0.015793        0.000122\n",
      "3          0.015790         0.000060         0.015793        0.000122\n",
      "4          0.015790         0.000060         0.015793        0.000122\n",
      "0.9842073333333333\n"
     ]
    }
   ],
   "source": [
    "#Measure Accuracy \n",
    "\n",
    "# Create the parameter dictionary: params\n",
    "params = {\"objective\":\"binary:logistic\"}\n",
    "\n",
    "# Perform cross-validation: cv_results\n",
    "cv_results = xgb.cv(dtrain=dmatrix, params=params, \n",
    "                  nfold=3, num_boost_round=5, \n",
    "                  metrics=\"error\", as_pandas=True, seed=123)\n",
    "\n",
    "# Print cv_results\n",
    "print(cv_results)\n",
    "\n",
    "# Print the accuracy\n",
    "print(((1-cv_results[\"test-error-mean\"]).iloc[-1]))\n",
    "\n"
   ]
  },
  {
   "cell_type": "code",
   "execution_count": 86,
   "metadata": {
    "ExecuteTime": {
     "end_time": "2020-11-17T00:03:06.236797Z",
     "start_time": "2020-11-17T00:01:22.640871Z"
    }
   },
   "outputs": [
    {
     "name": "stdout",
     "output_type": "stream",
     "text": [
      "Fitting 3 folds for each of 10 candidates, totalling 30 fits\n"
     ]
    },
    {
     "name": "stderr",
     "output_type": "stream",
     "text": [
      "[Parallel(n_jobs=1)]: Using backend SequentialBackend with 1 concurrent workers.\n",
      "[Parallel(n_jobs=1)]: Done  30 out of  30 | elapsed:  1.7min finished\n"
     ]
    },
    {
     "name": "stdout",
     "output_type": "stream",
     "text": [
      "{'min_child_weight': 1, 'max_depth': 4}\n",
      "0.739547114890156\n",
      "make_scorer(roc_auc_score, needs_threshold=True)\n"
     ]
    }
   ],
   "source": [
    "#tune some hyperparameters.\n",
    "\n",
    "param_grid = {\n",
    "    \n",
    "    'max_depth':range(3,10,1),\n",
    " 'min_child_weight':range(1,6,1)\n",
    "    \n",
    "}\n",
    "xgb1 = xgb.XGBClassifier(objective=\"binary:logistic\",\n",
    "                         tree_method='gpu_hist')\n",
    "\n",
    "xgb1_cv = RandomizedSearchCV(estimator=xgb1,\n",
    "                             param_distributions=param_grid,\n",
    "                             cv=3,\n",
    "                             scoring='roc_auc',\n",
    "                             verbose=1,random_state=123)\n",
    "\n",
    "xgb1_cv.fit(X_train, y_train)\n",
    "\n",
    "print(xgb1_cv.best_params_)\n",
    "print(xgb1_cv.best_score_)\n",
    "print(xgb1_cv.scorer_)"
   ]
  },
  {
   "cell_type": "code",
   "execution_count": 87,
   "metadata": {
    "ExecuteTime": {
     "end_time": "2020-11-17T01:56:29.905944Z",
     "start_time": "2020-11-17T01:56:23.054552Z"
    }
   },
   "outputs": [
    {
     "name": "stderr",
     "output_type": "stream",
     "text": [
      "C:\\ProgramData\\Anaconda3\\lib\\site-packages\\sklearn\\model_selection\\_search.py:282: UserWarning: The total space of parameters 5 is smaller than n_iter=10. Running 5 iterations. For exhaustive searches, use GridSearchCV.\n",
      "  % (grid_size, self.n_iter, grid_size), UserWarning)\n",
      "[Parallel(n_jobs=1)]: Using backend SequentialBackend with 1 concurrent workers.\n"
     ]
    },
    {
     "name": "stdout",
     "output_type": "stream",
     "text": [
      "Fitting 5 folds for each of 5 candidates, totalling 25 fits\n"
     ]
    },
    {
     "name": "stderr",
     "output_type": "stream",
     "text": [
      "[Parallel(n_jobs=1)]: Done  25 out of  25 | elapsed:  1.2min finished\n"
     ]
    },
    {
     "name": "stdout",
     "output_type": "stream",
     "text": [
      "{'gamma': 0.4}\n",
      "0.7406437583819843\n"
     ]
    }
   ],
   "source": [
    "#tune gamma \n",
    "\n",
    "param_grid = {\n",
    "    \n",
    "   'gamma':[i/10.0 for i in range(0,5)]\n",
    "    \n",
    "}\n",
    "xgb2 = xgb.XGBClassifier(objective=\"binary:logistic\",max_depth=4,\n",
    "                         min_child_weight=1,\n",
    "                         tree_method='gpu_hist')\n",
    "\n",
    "xgb2_cv = RandomizedSearchCV(estimator=xgb2,\n",
    "                             param_distributions=param_grid,\n",
    "                             scoring='roc_auc',\n",
    "                             verbose=1,random_state=123)\n",
    "\n",
    "xgb2_cv.fit(X_train, y_train)\n",
    "\n",
    "print(xgb2_cv.best_params_)\n",
    "print(xgb2_cv.best_score_)"
   ]
  },
  {
   "cell_type": "code",
   "execution_count": null,
   "metadata": {
    "ExecuteTime": {
     "end_time": "2020-11-16T23:41:41.151294Z",
     "start_time": "2020-11-16T23:40:36.421592Z"
    }
   },
   "outputs": [],
   "source": []
  },
  {
   "cell_type": "code",
   "execution_count": 92,
   "metadata": {
    "ExecuteTime": {
     "end_time": "2020-11-17T01:32:35.551904Z",
     "start_time": "2020-11-17T01:32:28.832520Z"
    }
   },
   "outputs": [
    {
     "name": "stdout",
     "output_type": "stream",
     "text": [
      "    train-auc-mean  train-auc-std  test-auc-mean  test-auc-std\n",
      "0         0.711783       0.001592       0.710731      0.003505\n",
      "1         0.724598       0.002766       0.723307      0.003699\n",
      "2         0.728424       0.001012       0.726780      0.002156\n",
      "3         0.729534       0.000621       0.727336      0.002523\n",
      "4         0.730829       0.000750       0.729158      0.001920\n",
      "5         0.731245       0.000556       0.729726      0.002076\n",
      "6         0.731701       0.000385       0.730045      0.002211\n",
      "7         0.732536       0.000568       0.730303      0.002380\n",
      "8         0.733083       0.000652       0.730710      0.002063\n",
      "9         0.734193       0.000588       0.731335      0.002047\n",
      "10        0.735131       0.000526       0.732209      0.001450\n",
      "11        0.735766       0.000520       0.732290      0.001212\n",
      "12        0.736149       0.000630       0.732719      0.001407\n",
      "13        0.736960       0.000552       0.733351      0.001439\n",
      "14        0.737884       0.000591       0.733942      0.001494\n",
      "15        0.738739       0.000497       0.734500      0.001491\n",
      "16        0.739621       0.000606       0.735049      0.001472\n",
      "17        0.740552       0.000847       0.735888      0.001351\n",
      "18        0.741888       0.001006       0.736801      0.001441\n",
      "19        0.742814       0.000819       0.737253      0.001620\n",
      "0.7372528\n"
     ]
    }
   ],
   "source": [
    "#Test AUC with new optimized parameters\n",
    "\n",
    "params = {\n",
    "    \"objective\": \"binary:logistic\",\n",
    "    \"max_depth\": 4,\n",
    "    'min_child_weight': 1,\n",
    "    'gamma': .4,\n",
    "    'tree_method': 'gpu_hist'\n",
    "}\n",
    "#Perform cross_validation: cv_results\n",
    "cv_results = xgb.cv(dtrain=dmatrix,\n",
    "                    params=params,\n",
    "                    nfold=5,\n",
    "                    num_boost_round=20,\n",
    "                    metrics=\"auc\",\n",
    "                    as_pandas=True,\n",
    "                    seed=123)\n",
    "\n",
    "# Print cv_results\n",
    "print(cv_results)\n",
    "\n",
    "# Print the AUC\n",
    "print((cv_results[\"test-auc-mean\"]).iloc[-1])"
   ]
  },
  {
   "cell_type": "code",
   "execution_count": 94,
   "metadata": {
    "ExecuteTime": {
     "end_time": "2020-11-17T01:41:38.703970Z",
     "start_time": "2020-11-17T01:41:32.514616Z"
    }
   },
   "outputs": [
    {
     "data": {
      "image/png": "[encoded data removed]",
      "text/plain": [
       "<Figure size 432x288 with 1 Axes>"
      ]
     },
     "metadata": {
      "needs_background": "light"
     },
     "output_type": "display_data"
    }
   ],
   "source": [
    "xg_reg1 = xgb.train(params=params, dtrain=dmatrix, num_boost_round=10)\n",
    "\n",
    "# Plot the feature importances\n",
    "xgb.plot_importance(xg_reg1)\n",
    "plt.show()"
   ]
  },
  {
   "cell_type": "code",
   "execution_count": null,
   "metadata": {
    "ExecuteTime": {
     "end_time": "2020-11-17T01:56:29.905944Z",
     "start_time": "2020-11-17T01:56:23.054552Z"
    }
   },
   "outputs": [],
   "source": []
  },
  {
   "cell_type": "code",
   "execution_count": 98,
   "metadata": {
    "ExecuteTime": {
     "end_time": "2020-11-17T01:56:29.905944Z",
     "start_time": "2020-11-17T01:56:23.054552Z"
    }
   },
   "outputs": [
    {
     "name": "stdout",
     "output_type": "stream",
     "text": [
      "    train-auc-mean  train-auc-std  test-auc-mean  test-auc-std\n",
      "0         0.711783       0.001592       0.710731      0.003505\n",
      "1         0.724598       0.002766       0.723307      0.003699\n",
      "2         0.728424       0.001012       0.726780      0.002156\n",
      "3         0.729534       0.000621       0.727336      0.002523\n",
      "4         0.730829       0.000750       0.729158      0.001920\n",
      "5         0.731245       0.000556       0.729726      0.002076\n",
      "6         0.731701       0.000385       0.730045      0.002211\n",
      "7         0.732536       0.000568       0.730303      0.002380\n",
      "8         0.733083       0.000652       0.730710      0.002063\n",
      "9         0.734193       0.000588       0.731335      0.002047\n",
      "10        0.735131       0.000526       0.732209      0.001450\n",
      "11        0.735766       0.000520       0.732290      0.001212\n",
      "12        0.736149       0.000630       0.732719      0.001407\n",
      "13        0.736960       0.000552       0.733351      0.001439\n",
      "14        0.737884       0.000591       0.733942      0.001494\n",
      "15        0.738739       0.000497       0.734500      0.001491\n",
      "16        0.739621       0.000606       0.735049      0.001472\n",
      "17        0.740552       0.000847       0.735888      0.001351\n",
      "18        0.741888       0.001006       0.736801      0.001441\n",
      "19        0.742814       0.000819       0.737253      0.001620\n",
      "0.7372528\n"
     ]
    }
   ],
   "source": [
    "params = {\n",
    "    \"objective\": 'binary:logitraw',\n",
    "    \"max_depth\": 4,\n",
    "    'min_child_weight': 1,\n",
    "    'gamma': .4,\n",
    "    'tree_method': 'gpu_hist'\n",
    "}\n",
    "#Perform cross_validation: cv_results\n",
    "cv_results = xgb.cv(dtrain=dmatrix,\n",
    "                    params=params,\n",
    "                    nfold=5,\n",
    "                    num_boost_round=20,\n",
    "                    metrics=\"auc\",\n",
    "                    as_pandas=True,\n",
    "                    seed=123)\n",
    "\n",
    "# Print cv_results\n",
    "print(cv_results)\n",
    "\n",
    "# Print the AUC\n",
    "print((cv_results[\"test-auc-mean\"]).iloc[-1])"
   ]
  },
  {
   "cell_type": "code",
   "execution_count": 101,
   "metadata": {
    "ExecuteTime": {
     "end_time": "2020-11-18T02:31:40.808914Z",
     "start_time": "2020-11-18T02:31:37.431721Z"
    }
   },
   "outputs": [
    {
     "name": "stdout",
     "output_type": "stream",
     "text": [
      "[[154778      0]\n",
      " [  2494      1]]\n",
      "              precision    recall  f1-score   support\n",
      "\n",
      "       False       0.98      1.00      0.99    154778\n",
      "        True       1.00      0.00      0.00      2495\n",
      "\n",
      "    accuracy                           0.98    157273\n",
      "   macro avg       0.99      0.50      0.50    157273\n",
      "weighted avg       0.98      0.98      0.98    157273\n",
      "\n"
     ]
    }
   ],
   "source": [
    "\n",
    "\n",
    "\n",
    "xgb3 = xgb.XGBClassifier(objective=\"binary:logistic\",\n",
    "                         max_depth=3,\n",
    "                         min_child_weight=1,\n",
    "                         gamma=.4,\n",
    "                         tree_method='gpu_hist')\n",
    "\n",
    "\n",
    "xgb3.fit(X_train, y_train)\n",
    "\n",
    "\n",
    "\n",
    "y_pred3 = xgb3.predict(X_test)\n",
    "print(confusion_matrix(y_test, y_pred3))\n",
    "print(classification_report(y_test, y_pred3))\n"
   ]
  },
  {
   "cell_type": "code",
   "execution_count": null,
   "metadata": {},
   "outputs": [],
   "source": []
  },
  {
   "cell_type": "code",
   "execution_count": null,
   "metadata": {
    "ExecuteTime": {
     "end_time": "2020-11-04T02:23:20.526525Z",
     "start_time": "2020-11-04T02:17:50.624656Z"
    }
   },
   "outputs": [],
   "source": [
    "\n",
    "\n",
    "# Setup the hyperparameter grid\n",
    "c_space = np.logspace(-5, 8, 15)\n",
    "param_grid = {'C': c_space}\n",
    "\n",
    "# Instantiate a logistic regression classifier: logreg\n",
    "logreg = LogisticRegression(max_iter=10000)\n",
    "\n",
    "# Instantiate the GridSearchCV object: logreg_cv\n",
    "logreg_cv = RandomizedSearchCV(logreg, param_grid, cv=5)\n",
    "\n",
    "# Fit it to the data\n",
    "logreg_cv.fit(X_train, y_train)\n",
    "\n",
    "# Print the tuned parameter and score\n",
    "print(\"Tuned Logistic Regression Parameters: {}\".format(logreg_cv.best_params_))\n",
    "print(\"Best score is {}\".format(logreg_cv.best_score_))\n"
   ]
  },
  {
   "cell_type": "code",
   "execution_count": null,
   "metadata": {
    "ExecuteTime": {
     "end_time": "2020-11-04T02:12:02.376737Z",
     "start_time": "2020-11-04T01:45:03.822Z"
    }
   },
   "outputs": [],
   "source": [
    "\n"
   ]
  },
  {
   "cell_type": "code",
   "execution_count": null,
   "metadata": {
    "ExecuteTime": {
     "end_time": "2020-11-04T02:13:51.139958Z",
     "start_time": "2020-11-04T02:13:42.612470Z"
    }
   },
   "outputs": [],
   "source": []
  },
  {
   "cell_type": "code",
   "execution_count": 102,
   "metadata": {
    "ExecuteTime": {
     "end_time": "2020-11-18T02:32:27.969612Z",
     "start_time": "2020-11-18T02:32:27.294573Z"
    }
   },
   "outputs": [
    {
     "data": {
      "image/png": "[encoded data removed]",
      "text/plain": [
       "<Figure size 432x288 with 1 Axes>"
      ]
     },
     "metadata": {
      "needs_background": "light"
     },
     "output_type": "display_data"
    }
   ],
   "source": [
    "from sklearn.metrics import roc_curve\n",
    "from sklearn.linear_model import LogisticRegression\n",
    "# Compute predicted probabilities: y_pred_prob\n",
    "y_pred_prob = xgb3.predict_proba(X_test)[:,1]\n",
    "\n",
    "# Generate ROC curve values: fpr, tpr, thresholds\n",
    "fpr, tpr, thresholds = roc_curve(y_test, y_pred_prob)\n",
    "\n",
    "# Plot ROC curve\n",
    "plt.plot([0, 1], [0, 1], 'k--')\n",
    "plt.plot(fpr, tpr)\n",
    "plt.title('ROC Curve')\n",
    "plt.show()"
   ]
  },
  {
   "cell_type": "code",
   "execution_count": null,
   "metadata": {
    "ExecuteTime": {
     "end_time": "2020-11-04T03:09:28.522846Z",
     "start_time": "2020-11-04T03:09:28.503844Z"
    }
   },
   "outputs": [],
   "source": [
    "from sklearn.model_selection import cross_val_score\n",
    "from sklearn.metrics import roc_auc_score\n",
    "\n",
    "# Compute predicted probabilities: y_pred_prob\n",
    "y_pred_prob = logreg.predict_proba(X_test)[:,1]\n",
    "\n",
    "# Compute and print AUC score\n",
    "print(\"AUC: {}\".format(roc_auc_score(y_test, y_pred_prob)))\n",
    "\n",
    "# Compute cross-validated AUC scores: cv_auc\n",
    "cv_auc = cross_val_score(logreg,X,y,scoring='roc_auc',cv=5)\n",
    "\n",
    "# Print list of AUC scores\n",
    "print(\"AUC scores computed using 5-fold cross-validation: {}\".format(cv_auc))"
   ]
  },
  {
   "cell_type": "code",
   "execution_count": null,
   "metadata": {
    "ExecuteTime": {
     "end_time": "2020-11-04T02:12:02.381738Z",
     "start_time": "2020-11-04T01:45:03.841Z"
    }
   },
   "outputs": [],
   "source": [
    "# Setup the pipeline\n",
    "steps = [('scaler', StandardScaler()),\n",
    "         ('SVM', SVC())]\n",
    "# Create the pipeline: pipeline \n",
    "pipeline = Pipeline(steps)\n",
    "\n",
    "# Specify the hyperparameter space\n",
    "parameters = {'SVM__C':[1, 10, 100],\n",
    "              'SVM__gamma':[0.1, 0.01]}\n",
    "\n",
    "# Create train and test sets\n",
    "X_train, X_test, y_train, y_test = train_test_split(X,y,test_size=.2,random_state=21)\n",
    "\n",
    "# Instantiate the GridSearchCV object: cv\n",
    "cv = GridSearchCV(pipeline,parameters,cv=3)\n",
    "\n",
    "# Fit to the training set\n",
    "cv.fit(X_train,y_train)\n",
    "\n",
    "# Predict the labels of the test set: y_pred\n",
    "y_pred = cv.predict(X_test)\n",
    "\n",
    "# Compute and print metrics\n",
    "print(\"Accuracy: {}\".format(cv.score(X_test, y_test)))\n",
    "print(classification_report(y_test, y_pred))\n",
    "print(\"Tuned Model Parameters: {}\".format(cv.best_params_))"
   ]
  },
  {
   "cell_type": "code",
   "execution_count": null,
   "metadata": {
    "ExecuteTime": {
     "end_time": "2020-11-04T02:12:02.382738Z",
     "start_time": "2020-11-04T01:45:03.844Z"
    }
   },
   "outputs": [],
   "source": []
  },
  {
   "cell_type": "code",
   "execution_count": null,
   "metadata": {},
   "outputs": [],
   "source": []
  }
 ],
 "metadata": {
  "kernelspec": {
   "display_name": "Python 3",
   "language": "python",
   "name": "python3"
  },
  "language_info": {
   "codemirror_mode": {
    "name": "ipython",
    "version": 3
   },
   "file_extension": ".py",
   "mimetype": "text/x-python",
   "name": "python",
   "nbconvert_exporter": "python",
   "pygments_lexer": "ipython3",
   "version": "3.6.10"
  },
  "varInspector": {
   "cols": {
    "lenName": 16,
    "lenType": 16,
    "lenVar": 40
   },
   "kernels_config": {
    "python": {
     "delete_cmd_postfix": "",
     "delete_cmd_prefix": "del ",
     "library": "var_list.py",
     "varRefreshCmd": "print(var_dic_list())"
    },
    "r": {
     "delete_cmd_postfix": ") ",
     "delete_cmd_prefix": "rm(",
     "library": "var_list.r",
     "varRefreshCmd": "cat(var_dic_list()) "
    }
   },
   "position": {
    "height": "399px",
    "left": "1573px",
    "right": "20px",
    "top": "120px",
    "width": "327px"
   },
   "types_to_exclude": [
    "module",
    "function",
    "builtin_function_or_method",
    "instance",
    "_Feature"
   ],
   "window_display": true
  }
 },
 "nbformat": 4,
 "nbformat_minor": 4
}
