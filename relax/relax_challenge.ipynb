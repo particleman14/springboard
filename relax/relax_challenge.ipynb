{
 "cells": [
  {
   "cell_type": "code",
   "execution_count": 1,
   "metadata": {
    "ExecuteTime": {
     "end_time": "2021-04-27T02:12:24.556220Z",
     "start_time": "2021-04-27T02:12:18.397867Z"
    }
   },
   "outputs": [],
   "source": [
    "import pandas as pd\n",
    "import numpy as np\n",
    "import matplotlib.pyplot as plt\n",
    "import seaborn as sns\n",
    "from pycaret.classification import *\n",
    "from sklearn.model_selection import train_test_split\n",
    "from sklearn.metrics import accuracy_score, roc_auc_score, roc_curve, classification_report, confusion_matrix\n",
    "import xgboost as xgb"
   ]
  },
  {
   "cell_type": "code",
   "execution_count": 2,
   "metadata": {
    "ExecuteTime": {
     "end_time": "2021-04-27T02:12:24.830235Z",
     "start_time": "2021-04-27T02:12:24.558220Z"
    }
   },
   "outputs": [],
   "source": [
    "users = pd.read_csv('takehome_users.csv',\n",
    "                    encoding='ISO-8859-1',\n",
    "                    parse_dates=['creation_time'])\n",
    "engagement = pd.read_csv('takehome_user_engagement.csv',\n",
    "                         encoding='ISO-8859-1',\n",
    "                         parse_dates=['time_stamp'])"
   ]
  },
  {
   "cell_type": "code",
   "execution_count": 3,
   "metadata": {
    "ExecuteTime": {
     "end_time": "2021-04-27T02:12:24.860237Z",
     "start_time": "2021-04-27T02:12:24.834236Z"
    }
   },
   "outputs": [
    {
     "data": {
      "text/html": [
       "<div>\n",
       "<style scoped>\n",
       "    .dataframe tbody tr th:only-of-type {\n",
       "        vertical-align: middle;\n",
       "    }\n",
       "\n",
       "    .dataframe tbody tr th {\n",
       "        vertical-align: top;\n",
       "    }\n",
       "\n",
       "    .dataframe thead th {\n",
       "        text-align: right;\n",
       "    }\n",
       "</style>\n",
       "<table border=\"1\" class=\"dataframe\">\n",
       "  <thead>\n",
       "    <tr style=\"text-align: right;\">\n",
       "      <th></th>\n",
       "      <th>object_id</th>\n",
       "      <th>creation_time</th>\n",
       "      <th>name</th>\n",
       "      <th>email</th>\n",
       "      <th>creation_source</th>\n",
       "      <th>last_session_creation_time</th>\n",
       "      <th>opted_in_to_mailing_list</th>\n",
       "      <th>enabled_for_marketing_drip</th>\n",
       "      <th>org_id</th>\n",
       "      <th>invited_by_user_id</th>\n",
       "    </tr>\n",
       "  </thead>\n",
       "  <tbody>\n",
       "    <tr>\n",
       "      <th>0</th>\n",
       "      <td>1</td>\n",
       "      <td>2014-04-22 03:53:30</td>\n",
       "      <td>Clausen August</td>\n",
       "      <td>AugustCClausen@yahoo.com</td>\n",
       "      <td>GUEST_INVITE</td>\n",
       "      <td>1.398139e+09</td>\n",
       "      <td>1</td>\n",
       "      <td>0</td>\n",
       "      <td>11</td>\n",
       "      <td>10803.0</td>\n",
       "    </tr>\n",
       "    <tr>\n",
       "      <th>1</th>\n",
       "      <td>2</td>\n",
       "      <td>2013-11-15 03:45:04</td>\n",
       "      <td>Poole Matthew</td>\n",
       "      <td>MatthewPoole@gustr.com</td>\n",
       "      <td>ORG_INVITE</td>\n",
       "      <td>1.396238e+09</td>\n",
       "      <td>0</td>\n",
       "      <td>0</td>\n",
       "      <td>1</td>\n",
       "      <td>316.0</td>\n",
       "    </tr>\n",
       "    <tr>\n",
       "      <th>2</th>\n",
       "      <td>3</td>\n",
       "      <td>2013-03-19 23:14:52</td>\n",
       "      <td>Bottrill Mitchell</td>\n",
       "      <td>MitchellBottrill@gustr.com</td>\n",
       "      <td>ORG_INVITE</td>\n",
       "      <td>1.363735e+09</td>\n",
       "      <td>0</td>\n",
       "      <td>0</td>\n",
       "      <td>94</td>\n",
       "      <td>1525.0</td>\n",
       "    </tr>\n",
       "    <tr>\n",
       "      <th>3</th>\n",
       "      <td>4</td>\n",
       "      <td>2013-05-21 08:09:28</td>\n",
       "      <td>Clausen Nicklas</td>\n",
       "      <td>NicklasSClausen@yahoo.com</td>\n",
       "      <td>GUEST_INVITE</td>\n",
       "      <td>1.369210e+09</td>\n",
       "      <td>0</td>\n",
       "      <td>0</td>\n",
       "      <td>1</td>\n",
       "      <td>5151.0</td>\n",
       "    </tr>\n",
       "    <tr>\n",
       "      <th>4</th>\n",
       "      <td>5</td>\n",
       "      <td>2013-01-17 10:14:20</td>\n",
       "      <td>Raw Grace</td>\n",
       "      <td>GraceRaw@yahoo.com</td>\n",
       "      <td>GUEST_INVITE</td>\n",
       "      <td>1.358850e+09</td>\n",
       "      <td>0</td>\n",
       "      <td>0</td>\n",
       "      <td>193</td>\n",
       "      <td>5240.0</td>\n",
       "    </tr>\n",
       "  </tbody>\n",
       "</table>\n",
       "</div>"
      ],
      "text/plain": [
       "   object_id       creation_time               name  \\\n",
       "0          1 2014-04-22 03:53:30     Clausen August   \n",
       "1          2 2013-11-15 03:45:04      Poole Matthew   \n",
       "2          3 2013-03-19 23:14:52  Bottrill Mitchell   \n",
       "3          4 2013-05-21 08:09:28    Clausen Nicklas   \n",
       "4          5 2013-01-17 10:14:20          Raw Grace   \n",
       "\n",
       "                        email creation_source  last_session_creation_time  \\\n",
       "0    AugustCClausen@yahoo.com    GUEST_INVITE                1.398139e+09   \n",
       "1      MatthewPoole@gustr.com      ORG_INVITE                1.396238e+09   \n",
       "2  MitchellBottrill@gustr.com      ORG_INVITE                1.363735e+09   \n",
       "3   NicklasSClausen@yahoo.com    GUEST_INVITE                1.369210e+09   \n",
       "4          GraceRaw@yahoo.com    GUEST_INVITE                1.358850e+09   \n",
       "\n",
       "   opted_in_to_mailing_list  enabled_for_marketing_drip  org_id  \\\n",
       "0                         1                           0      11   \n",
       "1                         0                           0       1   \n",
       "2                         0                           0      94   \n",
       "3                         0                           0       1   \n",
       "4                         0                           0     193   \n",
       "\n",
       "   invited_by_user_id  \n",
       "0             10803.0  \n",
       "1               316.0  \n",
       "2              1525.0  \n",
       "3              5151.0  \n",
       "4              5240.0  "
      ]
     },
     "execution_count": 3,
     "metadata": {},
     "output_type": "execute_result"
    }
   ],
   "source": [
    "users.head()"
   ]
  },
  {
   "cell_type": "code",
   "execution_count": 4,
   "metadata": {
    "ExecuteTime": {
     "end_time": "2021-04-27T02:12:24.974244Z",
     "start_time": "2021-04-27T02:12:24.861237Z"
    }
   },
   "outputs": [
    {
     "name": "stdout",
     "output_type": "stream",
     "text": [
      "<class 'pandas.core.frame.DataFrame'>\n",
      "RangeIndex: 12000 entries, 0 to 11999\n",
      "Data columns (total 10 columns):\n",
      " #   Column                      Non-Null Count  Dtype         \n",
      "---  ------                      --------------  -----         \n",
      " 0   object_id                   12000 non-null  int64         \n",
      " 1   creation_time               12000 non-null  datetime64[ns]\n",
      " 2   name                        12000 non-null  object        \n",
      " 3   email                       12000 non-null  object        \n",
      " 4   creation_source             12000 non-null  object        \n",
      " 5   last_session_creation_time  8823 non-null   float64       \n",
      " 6   opted_in_to_mailing_list    12000 non-null  int64         \n",
      " 7   enabled_for_marketing_drip  12000 non-null  int64         \n",
      " 8   org_id                      12000 non-null  int64         \n",
      " 9   invited_by_user_id          6417 non-null   float64       \n",
      "dtypes: datetime64[ns](1), float64(2), int64(4), object(3)\n",
      "memory usage: 937.6+ KB\n"
     ]
    }
   ],
   "source": [
    "users.info()"
   ]
  },
  {
   "cell_type": "code",
   "execution_count": 5,
   "metadata": {
    "ExecuteTime": {
     "end_time": "2021-04-27T02:12:24.991245Z",
     "start_time": "2021-04-27T02:12:24.978244Z"
    }
   },
   "outputs": [
    {
     "data": {
      "text/html": [
       "<div>\n",
       "<style scoped>\n",
       "    .dataframe tbody tr th:only-of-type {\n",
       "        vertical-align: middle;\n",
       "    }\n",
       "\n",
       "    .dataframe tbody tr th {\n",
       "        vertical-align: top;\n",
       "    }\n",
       "\n",
       "    .dataframe thead th {\n",
       "        text-align: right;\n",
       "    }\n",
       "</style>\n",
       "<table border=\"1\" class=\"dataframe\">\n",
       "  <thead>\n",
       "    <tr style=\"text-align: right;\">\n",
       "      <th></th>\n",
       "      <th>time_stamp</th>\n",
       "      <th>user_id</th>\n",
       "      <th>visited</th>\n",
       "    </tr>\n",
       "  </thead>\n",
       "  <tbody>\n",
       "    <tr>\n",
       "      <th>0</th>\n",
       "      <td>2014-04-22 03:53:30</td>\n",
       "      <td>1</td>\n",
       "      <td>1</td>\n",
       "    </tr>\n",
       "    <tr>\n",
       "      <th>1</th>\n",
       "      <td>2013-11-15 03:45:04</td>\n",
       "      <td>2</td>\n",
       "      <td>1</td>\n",
       "    </tr>\n",
       "    <tr>\n",
       "      <th>2</th>\n",
       "      <td>2013-11-29 03:45:04</td>\n",
       "      <td>2</td>\n",
       "      <td>1</td>\n",
       "    </tr>\n",
       "    <tr>\n",
       "      <th>3</th>\n",
       "      <td>2013-12-09 03:45:04</td>\n",
       "      <td>2</td>\n",
       "      <td>1</td>\n",
       "    </tr>\n",
       "    <tr>\n",
       "      <th>4</th>\n",
       "      <td>2013-12-25 03:45:04</td>\n",
       "      <td>2</td>\n",
       "      <td>1</td>\n",
       "    </tr>\n",
       "  </tbody>\n",
       "</table>\n",
       "</div>"
      ],
      "text/plain": [
       "           time_stamp  user_id  visited\n",
       "0 2014-04-22 03:53:30        1        1\n",
       "1 2013-11-15 03:45:04        2        1\n",
       "2 2013-11-29 03:45:04        2        1\n",
       "3 2013-12-09 03:45:04        2        1\n",
       "4 2013-12-25 03:45:04        2        1"
      ]
     },
     "execution_count": 5,
     "metadata": {},
     "output_type": "execute_result"
    }
   ],
   "source": [
    "engagement.head()"
   ]
  },
  {
   "cell_type": "code",
   "execution_count": 6,
   "metadata": {
    "ExecuteTime": {
     "end_time": "2021-04-27T02:12:25.017246Z",
     "start_time": "2021-04-27T02:12:24.995245Z"
    }
   },
   "outputs": [
    {
     "name": "stdout",
     "output_type": "stream",
     "text": [
      "<class 'pandas.core.frame.DataFrame'>\n",
      "RangeIndex: 207917 entries, 0 to 207916\n",
      "Data columns (total 3 columns):\n",
      " #   Column      Non-Null Count   Dtype         \n",
      "---  ------      --------------   -----         \n",
      " 0   time_stamp  207917 non-null  datetime64[ns]\n",
      " 1   user_id     207917 non-null  int64         \n",
      " 2   visited     207917 non-null  int64         \n",
      "dtypes: datetime64[ns](1), int64(2)\n",
      "memory usage: 4.8 MB\n"
     ]
    }
   ],
   "source": [
    "engagement.info()"
   ]
  },
  {
   "cell_type": "code",
   "execution_count": 7,
   "metadata": {
    "ExecuteTime": {
     "end_time": "2021-04-27T02:12:25.023246Z",
     "start_time": "2021-04-27T02:12:25.020246Z"
    }
   },
   "outputs": [],
   "source": [
    "engagement.index = engagement.time_stamp\n",
    "#engagement.drop(labels='time_stamp',axis=1,inplace=True)"
   ]
  },
  {
   "cell_type": "code",
   "execution_count": 8,
   "metadata": {
    "ExecuteTime": {
     "end_time": "2021-04-27T02:12:25.045248Z",
     "start_time": "2021-04-27T02:12:25.027247Z"
    }
   },
   "outputs": [
    {
     "data": {
      "text/html": [
       "<div>\n",
       "<style scoped>\n",
       "    .dataframe tbody tr th:only-of-type {\n",
       "        vertical-align: middle;\n",
       "    }\n",
       "\n",
       "    .dataframe tbody tr th {\n",
       "        vertical-align: top;\n",
       "    }\n",
       "\n",
       "    .dataframe thead th {\n",
       "        text-align: right;\n",
       "    }\n",
       "</style>\n",
       "<table border=\"1\" class=\"dataframe\">\n",
       "  <thead>\n",
       "    <tr style=\"text-align: right;\">\n",
       "      <th></th>\n",
       "      <th>time_stamp</th>\n",
       "      <th>user_id</th>\n",
       "      <th>visited</th>\n",
       "    </tr>\n",
       "    <tr>\n",
       "      <th>time_stamp</th>\n",
       "      <th></th>\n",
       "      <th></th>\n",
       "      <th></th>\n",
       "    </tr>\n",
       "  </thead>\n",
       "  <tbody>\n",
       "    <tr>\n",
       "      <th>2014-04-22 03:53:30</th>\n",
       "      <td>2014-04-22 03:53:30</td>\n",
       "      <td>1</td>\n",
       "      <td>1</td>\n",
       "    </tr>\n",
       "    <tr>\n",
       "      <th>2013-11-15 03:45:04</th>\n",
       "      <td>2013-11-15 03:45:04</td>\n",
       "      <td>2</td>\n",
       "      <td>1</td>\n",
       "    </tr>\n",
       "    <tr>\n",
       "      <th>2013-11-29 03:45:04</th>\n",
       "      <td>2013-11-29 03:45:04</td>\n",
       "      <td>2</td>\n",
       "      <td>1</td>\n",
       "    </tr>\n",
       "    <tr>\n",
       "      <th>2013-12-09 03:45:04</th>\n",
       "      <td>2013-12-09 03:45:04</td>\n",
       "      <td>2</td>\n",
       "      <td>1</td>\n",
       "    </tr>\n",
       "    <tr>\n",
       "      <th>2013-12-25 03:45:04</th>\n",
       "      <td>2013-12-25 03:45:04</td>\n",
       "      <td>2</td>\n",
       "      <td>1</td>\n",
       "    </tr>\n",
       "  </tbody>\n",
       "</table>\n",
       "</div>"
      ],
      "text/plain": [
       "                             time_stamp  user_id  visited\n",
       "time_stamp                                               \n",
       "2014-04-22 03:53:30 2014-04-22 03:53:30        1        1\n",
       "2013-11-15 03:45:04 2013-11-15 03:45:04        2        1\n",
       "2013-11-29 03:45:04 2013-11-29 03:45:04        2        1\n",
       "2013-12-09 03:45:04 2013-12-09 03:45:04        2        1\n",
       "2013-12-25 03:45:04 2013-12-25 03:45:04        2        1"
      ]
     },
     "execution_count": 8,
     "metadata": {},
     "output_type": "execute_result"
    }
   ],
   "source": [
    "engagement.head()"
   ]
  },
  {
   "cell_type": "code",
   "execution_count": 9,
   "metadata": {
    "ExecuteTime": {
     "end_time": "2021-04-27T02:12:25.069249Z",
     "start_time": "2021-04-27T02:12:25.048248Z"
    }
   },
   "outputs": [
    {
     "data": {
      "text/plain": [
       "object_id                        0\n",
       "creation_time                    0\n",
       "name                             0\n",
       "email                            0\n",
       "creation_source                  0\n",
       "last_session_creation_time    3177\n",
       "opted_in_to_mailing_list         0\n",
       "enabled_for_marketing_drip       0\n",
       "org_id                           0\n",
       "invited_by_user_id            5583\n",
       "dtype: int64"
      ]
     },
     "execution_count": 9,
     "metadata": {},
     "output_type": "execute_result"
    }
   ],
   "source": [
    "#check for nulls\n",
    "users.isnull().sum()"
   ]
  },
  {
   "cell_type": "code",
   "execution_count": 10,
   "metadata": {
    "ExecuteTime": {
     "end_time": "2021-04-27T02:12:25.086250Z",
     "start_time": "2021-04-27T02:12:25.072249Z"
    }
   },
   "outputs": [
    {
     "data": {
      "text/plain": [
       "time_stamp    0\n",
       "user_id       0\n",
       "visited       0\n",
       "dtype: int64"
      ]
     },
     "execution_count": 10,
     "metadata": {},
     "output_type": "execute_result"
    }
   ],
   "source": [
    "engagement.isnull().sum()"
   ]
  },
  {
   "cell_type": "code",
   "execution_count": 11,
   "metadata": {
    "ExecuteTime": {
     "end_time": "2021-04-27T02:12:25.097251Z",
     "start_time": "2021-04-27T02:12:25.089250Z"
    }
   },
   "outputs": [],
   "source": [
    "#fill missing values.  assuming blanks were not invited\n",
    "users.invited_by_user_id = users.invited_by_user_id.fillna(0)"
   ]
  },
  {
   "cell_type": "code",
   "execution_count": 12,
   "metadata": {
    "ExecuteTime": {
     "end_time": "2021-04-27T02:12:25.239259Z",
     "start_time": "2021-04-27T02:12:25.101251Z"
    }
   },
   "outputs": [],
   "source": [
    "#change last session creation time to datetime.\n",
    "\n",
    "users.last_session_creation_time = pd.to_datetime(\n",
    "    users.last_session_creation_time, unit='s')"
   ]
  },
  {
   "cell_type": "code",
   "execution_count": 13,
   "metadata": {
    "ExecuteTime": {
     "end_time": "2021-04-27T02:12:25.246259Z",
     "start_time": "2021-04-27T02:12:25.240259Z"
    }
   },
   "outputs": [],
   "source": [
    "#last session times fill na with creation time, assuming the account was opened then not used\n",
    "users.last_session_creation_time = users.last_session_creation_time.fillna(\n",
    "    users.creation_time)"
   ]
  },
  {
   "cell_type": "markdown",
   "metadata": {},
   "source": [
    "__Adopted Users__"
   ]
  },
  {
   "cell_type": "code",
   "execution_count": 14,
   "metadata": {
    "ExecuteTime": {
     "end_time": "2021-04-27T02:12:35.649854Z",
     "start_time": "2021-04-27T02:12:25.247259Z"
    }
   },
   "outputs": [],
   "source": [
    "#group user id and count.  Adopted = logged in more than 3 times over a 7 day period.\n",
    "\n",
    "\n",
    "def get_rolling_count(df, freq):\n",
    "    return df.rolling(freq, on='time_stamp')['visited'].count()\n",
    "\n",
    "\n",
    "engagement['visited_7D'] = engagement.groupby('user_id',\n",
    "                                              as_index=False,\n",
    "                                              group_keys=False).apply(\n",
    "                                                  get_rolling_count, freq='7D')"
   ]
  },
  {
   "cell_type": "code",
   "execution_count": 15,
   "metadata": {
    "ExecuteTime": {
     "end_time": "2021-04-27T02:12:35.662855Z",
     "start_time": "2021-04-27T02:12:35.650854Z"
    }
   },
   "outputs": [
    {
     "data": {
      "text/html": [
       "<div>\n",
       "<style scoped>\n",
       "    .dataframe tbody tr th:only-of-type {\n",
       "        vertical-align: middle;\n",
       "    }\n",
       "\n",
       "    .dataframe tbody tr th {\n",
       "        vertical-align: top;\n",
       "    }\n",
       "\n",
       "    .dataframe thead th {\n",
       "        text-align: right;\n",
       "    }\n",
       "</style>\n",
       "<table border=\"1\" class=\"dataframe\">\n",
       "  <thead>\n",
       "    <tr style=\"text-align: right;\">\n",
       "      <th></th>\n",
       "      <th>time_stamp</th>\n",
       "      <th>user_id</th>\n",
       "      <th>visited</th>\n",
       "      <th>visited_7D</th>\n",
       "    </tr>\n",
       "    <tr>\n",
       "      <th>time_stamp</th>\n",
       "      <th></th>\n",
       "      <th></th>\n",
       "      <th></th>\n",
       "      <th></th>\n",
       "    </tr>\n",
       "  </thead>\n",
       "  <tbody>\n",
       "    <tr>\n",
       "      <th>2014-04-22 03:53:30</th>\n",
       "      <td>2014-04-22 03:53:30</td>\n",
       "      <td>1</td>\n",
       "      <td>1</td>\n",
       "      <td>1.0</td>\n",
       "    </tr>\n",
       "    <tr>\n",
       "      <th>2013-11-15 03:45:04</th>\n",
       "      <td>2013-11-15 03:45:04</td>\n",
       "      <td>2</td>\n",
       "      <td>1</td>\n",
       "      <td>1.0</td>\n",
       "    </tr>\n",
       "    <tr>\n",
       "      <th>2013-11-29 03:45:04</th>\n",
       "      <td>2013-11-29 03:45:04</td>\n",
       "      <td>2</td>\n",
       "      <td>1</td>\n",
       "      <td>1.0</td>\n",
       "    </tr>\n",
       "    <tr>\n",
       "      <th>2013-12-09 03:45:04</th>\n",
       "      <td>2013-12-09 03:45:04</td>\n",
       "      <td>2</td>\n",
       "      <td>1</td>\n",
       "      <td>1.0</td>\n",
       "    </tr>\n",
       "    <tr>\n",
       "      <th>2013-12-25 03:45:04</th>\n",
       "      <td>2013-12-25 03:45:04</td>\n",
       "      <td>2</td>\n",
       "      <td>1</td>\n",
       "      <td>1.0</td>\n",
       "    </tr>\n",
       "  </tbody>\n",
       "</table>\n",
       "</div>"
      ],
      "text/plain": [
       "                             time_stamp  user_id  visited  visited_7D\n",
       "time_stamp                                                           \n",
       "2014-04-22 03:53:30 2014-04-22 03:53:30        1        1         1.0\n",
       "2013-11-15 03:45:04 2013-11-15 03:45:04        2        1         1.0\n",
       "2013-11-29 03:45:04 2013-11-29 03:45:04        2        1         1.0\n",
       "2013-12-09 03:45:04 2013-12-09 03:45:04        2        1         1.0\n",
       "2013-12-25 03:45:04 2013-12-25 03:45:04        2        1         1.0"
      ]
     },
     "execution_count": 15,
     "metadata": {},
     "output_type": "execute_result"
    }
   ],
   "source": [
    "engagement.head()"
   ]
  },
  {
   "cell_type": "code",
   "execution_count": 16,
   "metadata": {
    "ExecuteTime": {
     "end_time": "2021-04-27T02:12:35.706858Z",
     "start_time": "2021-04-27T02:12:35.664855Z"
    }
   },
   "outputs": [],
   "source": [
    "adopted = engagement.loc[(engagement.visited_7D >= 3)]\n",
    "adopted = adopted.drop_duplicates('user_id', keep='first')"
   ]
  },
  {
   "cell_type": "code",
   "execution_count": 17,
   "metadata": {
    "ExecuteTime": {
     "end_time": "2021-04-27T02:12:35.716858Z",
     "start_time": "2021-04-27T02:12:35.712858Z"
    }
   },
   "outputs": [],
   "source": [
    "adopted_id = adopted.user_id.tolist()"
   ]
  },
  {
   "cell_type": "code",
   "execution_count": 18,
   "metadata": {
    "ExecuteTime": {
     "end_time": "2021-04-27T02:12:35.725859Z",
     "start_time": "2021-04-27T02:12:35.719858Z"
    }
   },
   "outputs": [],
   "source": [
    "#pass in adopted list as int\n",
    "users['adopted'] = users['object_id'].isin(adopted_id).astype('int')"
   ]
  },
  {
   "cell_type": "code",
   "execution_count": 19,
   "metadata": {
    "ExecuteTime": {
     "end_time": "2021-04-27T02:12:35.734859Z",
     "start_time": "2021-04-27T02:12:35.726859Z"
    }
   },
   "outputs": [
    {
     "data": {
      "text/plain": [
       "0    10398\n",
       "1     1602\n",
       "Name: adopted, dtype: int64"
      ]
     },
     "execution_count": 19,
     "metadata": {},
     "output_type": "execute_result"
    }
   ],
   "source": [
    "#adopted users is 1602\n",
    "users.adopted.value_counts()"
   ]
  },
  {
   "cell_type": "code",
   "execution_count": 20,
   "metadata": {
    "ExecuteTime": {
     "end_time": "2021-04-27T02:12:35.751860Z",
     "start_time": "2021-04-27T02:12:35.735859Z"
    }
   },
   "outputs": [
    {
     "name": "stdout",
     "output_type": "stream",
     "text": [
      "<class 'pandas.core.frame.DataFrame'>\n",
      "RangeIndex: 12000 entries, 0 to 11999\n",
      "Data columns (total 11 columns):\n",
      " #   Column                      Non-Null Count  Dtype         \n",
      "---  ------                      --------------  -----         \n",
      " 0   object_id                   12000 non-null  int64         \n",
      " 1   creation_time               12000 non-null  datetime64[ns]\n",
      " 2   name                        12000 non-null  object        \n",
      " 3   email                       12000 non-null  object        \n",
      " 4   creation_source             12000 non-null  object        \n",
      " 5   last_session_creation_time  12000 non-null  datetime64[ns]\n",
      " 6   opted_in_to_mailing_list    12000 non-null  int64         \n",
      " 7   enabled_for_marketing_drip  12000 non-null  int64         \n",
      " 8   org_id                      12000 non-null  int64         \n",
      " 9   invited_by_user_id          12000 non-null  float64       \n",
      " 10  adopted                     12000 non-null  int32         \n",
      "dtypes: datetime64[ns](2), float64(1), int32(1), int64(4), object(3)\n",
      "memory usage: 984.5+ KB\n"
     ]
    }
   ],
   "source": [
    "users.info()"
   ]
  },
  {
   "cell_type": "code",
   "execution_count": 21,
   "metadata": {
    "ExecuteTime": {
     "end_time": "2021-04-27T02:12:35.755860Z",
     "start_time": "2021-04-27T02:12:35.752860Z"
    }
   },
   "outputs": [
    {
     "data": {
      "text/plain": [
       "417"
      ]
     },
     "execution_count": 21,
     "metadata": {},
     "output_type": "execute_result"
    }
   ],
   "source": [
    "#417 unique org ids.  Try to see which orgs are responsible for the most adopted users.\n",
    "users.org_id.nunique()"
   ]
  },
  {
   "cell_type": "code",
   "execution_count": 22,
   "metadata": {
    "ExecuteTime": {
     "end_time": "2021-04-27T02:12:35.763861Z",
     "start_time": "2021-04-27T02:12:35.756860Z"
    }
   },
   "outputs": [
    {
     "data": {
      "text/plain": [
       "11355"
      ]
     },
     "execution_count": 22,
     "metadata": {},
     "output_type": "execute_result"
    }
   ],
   "source": [
    "users.name.nunique()"
   ]
  },
  {
   "cell_type": "code",
   "execution_count": 23,
   "metadata": {
    "ExecuteTime": {
     "end_time": "2021-04-27T02:12:35.781862Z",
     "start_time": "2021-04-27T02:12:35.765861Z"
    }
   },
   "outputs": [
    {
     "data": {
      "text/html": [
       "<div>\n",
       "<style scoped>\n",
       "    .dataframe tbody tr th:only-of-type {\n",
       "        vertical-align: middle;\n",
       "    }\n",
       "\n",
       "    .dataframe tbody tr th {\n",
       "        vertical-align: top;\n",
       "    }\n",
       "\n",
       "    .dataframe thead th {\n",
       "        text-align: right;\n",
       "    }\n",
       "</style>\n",
       "<table border=\"1\" class=\"dataframe\">\n",
       "  <thead>\n",
       "    <tr style=\"text-align: right;\">\n",
       "      <th></th>\n",
       "      <th>object_id</th>\n",
       "      <th>creation_time</th>\n",
       "      <th>name</th>\n",
       "      <th>email</th>\n",
       "      <th>creation_source</th>\n",
       "      <th>last_session_creation_time</th>\n",
       "      <th>opted_in_to_mailing_list</th>\n",
       "      <th>enabled_for_marketing_drip</th>\n",
       "      <th>org_id</th>\n",
       "      <th>invited_by_user_id</th>\n",
       "      <th>adopted</th>\n",
       "    </tr>\n",
       "  </thead>\n",
       "  <tbody>\n",
       "    <tr>\n",
       "      <th>0</th>\n",
       "      <td>1</td>\n",
       "      <td>2014-04-22 03:53:30</td>\n",
       "      <td>Clausen August</td>\n",
       "      <td>AugustCClausen@yahoo.com</td>\n",
       "      <td>GUEST_INVITE</td>\n",
       "      <td>2014-04-22 03:53:30</td>\n",
       "      <td>1</td>\n",
       "      <td>0</td>\n",
       "      <td>11</td>\n",
       "      <td>10803.0</td>\n",
       "      <td>0</td>\n",
       "    </tr>\n",
       "    <tr>\n",
       "      <th>1</th>\n",
       "      <td>2</td>\n",
       "      <td>2013-11-15 03:45:04</td>\n",
       "      <td>Poole Matthew</td>\n",
       "      <td>MatthewPoole@gustr.com</td>\n",
       "      <td>ORG_INVITE</td>\n",
       "      <td>2014-03-31 03:45:04</td>\n",
       "      <td>0</td>\n",
       "      <td>0</td>\n",
       "      <td>1</td>\n",
       "      <td>316.0</td>\n",
       "      <td>1</td>\n",
       "    </tr>\n",
       "    <tr>\n",
       "      <th>2</th>\n",
       "      <td>3</td>\n",
       "      <td>2013-03-19 23:14:52</td>\n",
       "      <td>Bottrill Mitchell</td>\n",
       "      <td>MitchellBottrill@gustr.com</td>\n",
       "      <td>ORG_INVITE</td>\n",
       "      <td>2013-03-19 23:14:52</td>\n",
       "      <td>0</td>\n",
       "      <td>0</td>\n",
       "      <td>94</td>\n",
       "      <td>1525.0</td>\n",
       "      <td>0</td>\n",
       "    </tr>\n",
       "    <tr>\n",
       "      <th>3</th>\n",
       "      <td>4</td>\n",
       "      <td>2013-05-21 08:09:28</td>\n",
       "      <td>Clausen Nicklas</td>\n",
       "      <td>NicklasSClausen@yahoo.com</td>\n",
       "      <td>GUEST_INVITE</td>\n",
       "      <td>2013-05-22 08:09:28</td>\n",
       "      <td>0</td>\n",
       "      <td>0</td>\n",
       "      <td>1</td>\n",
       "      <td>5151.0</td>\n",
       "      <td>0</td>\n",
       "    </tr>\n",
       "    <tr>\n",
       "      <th>4</th>\n",
       "      <td>5</td>\n",
       "      <td>2013-01-17 10:14:20</td>\n",
       "      <td>Raw Grace</td>\n",
       "      <td>GraceRaw@yahoo.com</td>\n",
       "      <td>GUEST_INVITE</td>\n",
       "      <td>2013-01-22 10:14:20</td>\n",
       "      <td>0</td>\n",
       "      <td>0</td>\n",
       "      <td>193</td>\n",
       "      <td>5240.0</td>\n",
       "      <td>0</td>\n",
       "    </tr>\n",
       "  </tbody>\n",
       "</table>\n",
       "</div>"
      ],
      "text/plain": [
       "   object_id       creation_time               name  \\\n",
       "0          1 2014-04-22 03:53:30     Clausen August   \n",
       "1          2 2013-11-15 03:45:04      Poole Matthew   \n",
       "2          3 2013-03-19 23:14:52  Bottrill Mitchell   \n",
       "3          4 2013-05-21 08:09:28    Clausen Nicklas   \n",
       "4          5 2013-01-17 10:14:20          Raw Grace   \n",
       "\n",
       "                        email creation_source last_session_creation_time  \\\n",
       "0    AugustCClausen@yahoo.com    GUEST_INVITE        2014-04-22 03:53:30   \n",
       "1      MatthewPoole@gustr.com      ORG_INVITE        2014-03-31 03:45:04   \n",
       "2  MitchellBottrill@gustr.com      ORG_INVITE        2013-03-19 23:14:52   \n",
       "3   NicklasSClausen@yahoo.com    GUEST_INVITE        2013-05-22 08:09:28   \n",
       "4          GraceRaw@yahoo.com    GUEST_INVITE        2013-01-22 10:14:20   \n",
       "\n",
       "   opted_in_to_mailing_list  enabled_for_marketing_drip  org_id  \\\n",
       "0                         1                           0      11   \n",
       "1                         0                           0       1   \n",
       "2                         0                           0      94   \n",
       "3                         0                           0       1   \n",
       "4                         0                           0     193   \n",
       "\n",
       "   invited_by_user_id  adopted  \n",
       "0             10803.0        0  \n",
       "1               316.0        1  \n",
       "2              1525.0        0  \n",
       "3              5151.0        0  \n",
       "4              5240.0        0  "
      ]
     },
     "execution_count": 23,
     "metadata": {},
     "output_type": "execute_result"
    }
   ],
   "source": [
    "users.head()"
   ]
  },
  {
   "cell_type": "code",
   "execution_count": null,
   "metadata": {},
   "outputs": [],
   "source": []
  },
  {
   "cell_type": "code",
   "execution_count": 24,
   "metadata": {
    "ExecuteTime": {
     "end_time": "2021-04-27T02:12:36.144883Z",
     "start_time": "2021-04-27T02:12:35.783862Z"
    }
   },
   "outputs": [
    {
     "data": {
      "text/plain": [
       "ORG_INVITE            0.354500\n",
       "GUEST_INVITE          0.180250\n",
       "PERSONAL_PROJECTS     0.175917\n",
       "SIGNUP                0.173917\n",
       "SIGNUP_GOOGLE_AUTH    0.115417\n",
       "Name: creation_source, dtype: float64"
      ]
     },
     "execution_count": 24,
     "metadata": {},
     "output_type": "execute_result"
    },
    {
     "data": {
      "image/png": "[encoded data removed]",
      "text/plain": [
       "<Figure size 432x288 with 1 Axes>"
      ]
     },
     "metadata": {
      "needs_background": "light"
     },
     "output_type": "display_data"
    }
   ],
   "source": [
    "#explore creation source to see where adopted users are coming from.\n",
    "sns.countplot(\n",
    "    data=users,\n",
    "    y='creation_source',\n",
    "    hue='adopted',\n",
    ")\n",
    "users.creation_source.value_counts(1)"
   ]
  },
  {
   "cell_type": "code",
   "execution_count": 25,
   "metadata": {
    "ExecuteTime": {
     "end_time": "2021-04-27T02:12:36.151883Z",
     "start_time": "2021-04-27T02:12:36.148883Z"
    }
   },
   "outputs": [],
   "source": [
    "#most are coming from org invites or guest invites.  org invites is the largest contributor\n",
    "#looks like room for growth in personal projects.  has the lowest ratio of adopted"
   ]
  },
  {
   "cell_type": "code",
   "execution_count": null,
   "metadata": {},
   "outputs": [],
   "source": []
  },
  {
   "cell_type": "code",
   "execution_count": 26,
   "metadata": {
    "ExecuteTime": {
     "end_time": "2021-04-27T02:12:36.305892Z",
     "start_time": "2021-04-27T02:12:36.154883Z"
    }
   },
   "outputs": [],
   "source": [
    "users1 = users.drop([\n",
    "    'object_id', 'name', 'email', 'last_session_creation_time', 'creation_time','org_id',\n",
    "],\n",
    "                   axis=1)\n",
    "\n",
    "usersdum = pd.get_dummies(users1)\n",
    "\n"
   ]
  },
  {
   "cell_type": "code",
   "execution_count": 27,
   "metadata": {
    "ExecuteTime": {
     "end_time": "2021-04-27T02:12:36.322893Z",
     "start_time": "2021-04-27T02:12:36.306892Z"
    }
   },
   "outputs": [
    {
     "data": {
      "text/html": [
       "<div>\n",
       "<style scoped>\n",
       "    .dataframe tbody tr th:only-of-type {\n",
       "        vertical-align: middle;\n",
       "    }\n",
       "\n",
       "    .dataframe tbody tr th {\n",
       "        vertical-align: top;\n",
       "    }\n",
       "\n",
       "    .dataframe thead th {\n",
       "        text-align: right;\n",
       "    }\n",
       "</style>\n",
       "<table border=\"1\" class=\"dataframe\">\n",
       "  <thead>\n",
       "    <tr style=\"text-align: right;\">\n",
       "      <th></th>\n",
       "      <th>opted_in_to_mailing_list</th>\n",
       "      <th>enabled_for_marketing_drip</th>\n",
       "      <th>invited_by_user_id</th>\n",
       "      <th>adopted</th>\n",
       "      <th>creation_source_GUEST_INVITE</th>\n",
       "      <th>creation_source_ORG_INVITE</th>\n",
       "      <th>creation_source_PERSONAL_PROJECTS</th>\n",
       "      <th>creation_source_SIGNUP</th>\n",
       "      <th>creation_source_SIGNUP_GOOGLE_AUTH</th>\n",
       "    </tr>\n",
       "  </thead>\n",
       "  <tbody>\n",
       "    <tr>\n",
       "      <th>0</th>\n",
       "      <td>1</td>\n",
       "      <td>0</td>\n",
       "      <td>10803.0</td>\n",
       "      <td>0</td>\n",
       "      <td>1</td>\n",
       "      <td>0</td>\n",
       "      <td>0</td>\n",
       "      <td>0</td>\n",
       "      <td>0</td>\n",
       "    </tr>\n",
       "    <tr>\n",
       "      <th>1</th>\n",
       "      <td>0</td>\n",
       "      <td>0</td>\n",
       "      <td>316.0</td>\n",
       "      <td>1</td>\n",
       "      <td>0</td>\n",
       "      <td>1</td>\n",
       "      <td>0</td>\n",
       "      <td>0</td>\n",
       "      <td>0</td>\n",
       "    </tr>\n",
       "    <tr>\n",
       "      <th>2</th>\n",
       "      <td>0</td>\n",
       "      <td>0</td>\n",
       "      <td>1525.0</td>\n",
       "      <td>0</td>\n",
       "      <td>0</td>\n",
       "      <td>1</td>\n",
       "      <td>0</td>\n",
       "      <td>0</td>\n",
       "      <td>0</td>\n",
       "    </tr>\n",
       "    <tr>\n",
       "      <th>3</th>\n",
       "      <td>0</td>\n",
       "      <td>0</td>\n",
       "      <td>5151.0</td>\n",
       "      <td>0</td>\n",
       "      <td>1</td>\n",
       "      <td>0</td>\n",
       "      <td>0</td>\n",
       "      <td>0</td>\n",
       "      <td>0</td>\n",
       "    </tr>\n",
       "    <tr>\n",
       "      <th>4</th>\n",
       "      <td>0</td>\n",
       "      <td>0</td>\n",
       "      <td>5240.0</td>\n",
       "      <td>0</td>\n",
       "      <td>1</td>\n",
       "      <td>0</td>\n",
       "      <td>0</td>\n",
       "      <td>0</td>\n",
       "      <td>0</td>\n",
       "    </tr>\n",
       "  </tbody>\n",
       "</table>\n",
       "</div>"
      ],
      "text/plain": [
       "   opted_in_to_mailing_list  enabled_for_marketing_drip  invited_by_user_id  \\\n",
       "0                         1                           0             10803.0   \n",
       "1                         0                           0               316.0   \n",
       "2                         0                           0              1525.0   \n",
       "3                         0                           0              5151.0   \n",
       "4                         0                           0              5240.0   \n",
       "\n",
       "   adopted  creation_source_GUEST_INVITE  creation_source_ORG_INVITE  \\\n",
       "0        0                             1                           0   \n",
       "1        1                             0                           1   \n",
       "2        0                             0                           1   \n",
       "3        0                             1                           0   \n",
       "4        0                             1                           0   \n",
       "\n",
       "   creation_source_PERSONAL_PROJECTS  creation_source_SIGNUP  \\\n",
       "0                                  0                       0   \n",
       "1                                  0                       0   \n",
       "2                                  0                       0   \n",
       "3                                  0                       0   \n",
       "4                                  0                       0   \n",
       "\n",
       "   creation_source_SIGNUP_GOOGLE_AUTH  \n",
       "0                                   0  \n",
       "1                                   0  \n",
       "2                                   0  \n",
       "3                                   0  \n",
       "4                                   0  "
      ]
     },
     "execution_count": 27,
     "metadata": {},
     "output_type": "execute_result"
    }
   ],
   "source": [
    "usersdum.head()"
   ]
  },
  {
   "cell_type": "code",
   "execution_count": 28,
   "metadata": {
    "ExecuteTime": {
     "end_time": "2021-04-27T02:12:36.328893Z",
     "start_time": "2021-04-27T02:12:36.323893Z"
    }
   },
   "outputs": [],
   "source": [
    "#split data\n",
    "\n",
    "X = usersdum.drop('adopted', axis=1)\n",
    "y = usersdum.adopted"
   ]
  },
  {
   "cell_type": "code",
   "execution_count": 29,
   "metadata": {
    "ExecuteTime": {
     "end_time": "2021-04-27T02:12:36.338894Z",
     "start_time": "2021-04-27T02:12:36.329893Z"
    }
   },
   "outputs": [],
   "source": [
    "#Train Test Split\n",
    "X_train, X_test, y_train, y_test = train_test_split(\n",
    "    X,\n",
    "    y,\n",
    "    test_size=0.75,\n",
    "    random_state=123,\n",
    ")"
   ]
  },
  {
   "cell_type": "code",
   "execution_count": 30,
   "metadata": {
    "ExecuteTime": {
     "end_time": "2021-04-27T02:12:37.123939Z",
     "start_time": "2021-04-27T02:12:36.339894Z"
    }
   },
   "outputs": [
    {
     "data": {
      "text/plain": [
       "XGBClassifier(base_score=0.5, booster='gbtree', colsample_bylevel=1,\n",
       "              colsample_bynode=1, colsample_bytree=1, gamma=0, gpu_id=0,\n",
       "              importance_type='gain', interaction_constraints='',\n",
       "              learning_rate=0.300000012, max_delta_step=0, max_depth=6,\n",
       "              min_child_weight=1, missing=nan,\n",
       "              monotone_constraints='(0,0,0,0,0,0,0,0)', n_estimators=100,\n",
       "              n_jobs=-1, num_parallel_tree=1, random_state=123, reg_alpha=0,\n",
       "              reg_lambda=1, scale_pos_weight=1, subsample=1,\n",
       "              tree_method='gpu_hist', validate_parameters=1, verbosity=None)"
      ]
     },
     "execution_count": 30,
     "metadata": {},
     "output_type": "execute_result"
    }
   ],
   "source": [
    "xgbcl = xgb.XGBClassifier(objective='binary:logistic',\n",
    "                          tree_method='gpu_hist',\n",
    "                          n_jobs=-1,\n",
    "                          random_state=123)\n",
    "\n",
    "# Fit the classifier to the training set\n",
    "xgbcl.fit(X_train, y_train)"
   ]
  },
  {
   "cell_type": "code",
   "execution_count": 31,
   "metadata": {
    "ExecuteTime": {
     "end_time": "2021-04-27T02:12:37.269947Z",
     "start_time": "2021-04-27T02:12:37.125939Z"
    }
   },
   "outputs": [
    {
     "name": "stdout",
     "output_type": "stream",
     "text": [
      "accuracy: 0.851556\n"
     ]
    }
   ],
   "source": [
    "# Predict the labels of the test set: preds\n",
    "y_pred = xgbcl.predict(X_test)\n",
    "\n",
    "# Compute the accuracy: accuracy\n",
    "accuracy = float(np.sum(y_pred == y_test)) / y_test.shape[0]\n",
    "print(\"accuracy: %f\" % (accuracy))"
   ]
  },
  {
   "cell_type": "code",
   "execution_count": 32,
   "metadata": {
    "ExecuteTime": {
     "end_time": "2021-04-27T02:12:37.317950Z",
     "start_time": "2021-04-27T02:12:37.273947Z"
    }
   },
   "outputs": [
    {
     "name": "stdout",
     "output_type": "stream",
     "text": [
      "[[7628  182]\n",
      " [1154   36]]\n",
      "              precision    recall  f1-score   support\n",
      "\n",
      "           0       0.87      0.98      0.92      7810\n",
      "           1       0.17      0.03      0.05      1190\n",
      "\n",
      "    accuracy                           0.85      9000\n",
      "   macro avg       0.52      0.50      0.49      9000\n",
      "weighted avg       0.78      0.85      0.80      9000\n",
      "\n"
     ]
    }
   ],
   "source": [
    "print(confusion_matrix(y_test, y_pred))\n",
    "print(classification_report(y_test, y_pred))"
   ]
  },
  {
   "cell_type": "code",
   "execution_count": 33,
   "metadata": {
    "ExecuteTime": {
     "end_time": "2021-04-27T02:12:37.708972Z",
     "start_time": "2021-04-27T02:12:37.319950Z"
    }
   },
   "outputs": [
    {
     "data": {
      "image/png": "[encoded data removed]",
      "text/plain": [
       "<Figure size 432x288 with 1 Axes>"
      ]
     },
     "metadata": {
      "needs_background": "light"
     },
     "output_type": "display_data"
    }
   ],
   "source": [
    "#What are the most important features in the dataset\n",
    "dmatrix = xgb.DMatrix(data=X, label=y)\n",
    "\n",
    "# Create the parameter dictionary: params\n",
    "params = {\n",
    "    \"objective\": \"binary:logistic\",\n",
    "    'tree_method': 'gpu_hist',\n",
    "    'n_jobs': -1\n",
    "}\n",
    "\n",
    "# Train the model:\n",
    "xg_reg = xgb.train(params=params, dtrain=dmatrix, num_boost_round=20)\n",
    "\n",
    "# Plot the feature importances\n",
    "xgb.plot_importance(xg_reg)\n",
    "plt.show()"
   ]
  },
  {
   "cell_type": "code",
   "execution_count": 34,
   "metadata": {
    "ExecuteTime": {
     "end_time": "2021-04-27T02:12:38.023990Z",
     "start_time": "2021-04-27T02:12:37.710972Z"
    }
   },
   "outputs": [
    {
     "data": {
      "image/png": "[encoded data removed]",
      "text/plain": [
       "<Figure size 432x288 with 1 Axes>"
      ]
     },
     "metadata": {
      "needs_background": "light"
     },
     "output_type": "display_data"
    }
   ],
   "source": [
    "from sklearn.metrics import roc_curve\n",
    "from sklearn.linear_model import LogisticRegression\n",
    "# Compute predicted probabilities: y_pred_prob\n",
    "y_pred_prob = xgbcl.predict_proba(X_test)[:, 1]\n",
    "\n",
    "# Generate ROC curve values: fpr, tpr, thresholds\n",
    "fpr, tpr, thresholds = roc_curve(y_test, y_pred_prob)\n",
    "\n",
    "# Plot ROC curve\n",
    "plt.plot([0, 1], [0, 1], 'k--')\n",
    "plt.plot(fpr, tpr)\n",
    "plt.title('ROC Curve')\n",
    "plt.show()"
   ]
  },
  {
   "cell_type": "code",
   "execution_count": null,
   "metadata": {},
   "outputs": [],
   "source": []
  },
  {
   "cell_type": "code",
   "execution_count": 35,
   "metadata": {
    "ExecuteTime": {
     "end_time": "2021-04-27T02:12:38.027990Z",
     "start_time": "2021-04-27T02:12:38.024990Z"
    }
   },
   "outputs": [],
   "source": [
    "#create potential features based on time\n",
    "\n",
    "#users['account_age'] = max(users['creation_time']) - users['creation_time']\n",
    "#users['account_age'] = users['account_age'].dt.days"
   ]
  },
  {
   "cell_type": "code",
   "execution_count": 36,
   "metadata": {
    "ExecuteTime": {
     "end_time": "2021-04-27T02:12:38.033991Z",
     "start_time": "2021-04-27T02:12:38.029990Z"
    }
   },
   "outputs": [],
   "source": [
    "#could create features based on "
   ]
  },
  {
   "cell_type": "code",
   "execution_count": 37,
   "metadata": {
    "ExecuteTime": {
     "end_time": "2021-04-27T02:12:38.039991Z",
     "start_time": "2021-04-27T02:12:38.035991Z"
    }
   },
   "outputs": [],
   "source": [
    "#users.org_id = users.org_id.astype('int')\n",
    "#users.adopted = users.adopted.astype('boolean')"
   ]
  },
  {
   "cell_type": "code",
   "execution_count": null,
   "metadata": {
    "ExecuteTime": {
     "end_time": "2021-04-23T20:19:47.340170Z",
     "start_time": "2021-04-23T20:19:46.736136Z"
    }
   },
   "outputs": [],
   "source": []
  },
  {
   "cell_type": "code",
   "execution_count": null,
   "metadata": {
    "ExecuteTime": {
     "end_time": "2021-04-23T21:15:03.165825Z",
     "start_time": "2021-04-23T21:15:03.153824Z"
    }
   },
   "outputs": [],
   "source": []
  },
  {
   "cell_type": "code",
   "execution_count": 38,
   "metadata": {
    "ExecuteTime": {
     "end_time": "2021-04-27T02:12:38.050992Z",
     "start_time": "2021-04-27T02:12:38.040991Z"
    }
   },
   "outputs": [],
   "source": [
    "data, data_unseen = train_test_split(users1, train_size=0.8, random_state=42)"
   ]
  },
  {
   "cell_type": "code",
   "execution_count": 39,
   "metadata": {
    "ExecuteTime": {
     "end_time": "2021-04-27T02:17:21.821222Z",
     "start_time": "2021-04-27T02:12:38.052992Z"
    }
   },
   "outputs": [
    {
     "data": {
      "text/html": [
       "<style  type=\"text/css\" >\n",
       "</style><table id=\"T_b2ce52be_a6fe_11eb_8d88_bcee7b9b3455\" ><thead>    <tr>        <th class=\"blank level0\" ></th>        <th class=\"col_heading level0 col0\" >Description</th>        <th class=\"col_heading level0 col1\" >Value</th>    </tr></thead><tbody>\n",
       "                <tr>\n",
       "                        <th id=\"T_b2ce52be_a6fe_11eb_8d88_bcee7b9b3455level0_row0\" class=\"row_heading level0 row0\" >0</th>\n",
       "                        <td id=\"T_b2ce52be_a6fe_11eb_8d88_bcee7b9b3455row0_col0\" class=\"data row0 col0\" >session_id</td>\n",
       "                        <td id=\"T_b2ce52be_a6fe_11eb_8d88_bcee7b9b3455row0_col1\" class=\"data row0 col1\" >7912</td>\n",
       "            </tr>\n",
       "            <tr>\n",
       "                        <th id=\"T_b2ce52be_a6fe_11eb_8d88_bcee7b9b3455level0_row1\" class=\"row_heading level0 row1\" >1</th>\n",
       "                        <td id=\"T_b2ce52be_a6fe_11eb_8d88_bcee7b9b3455row1_col0\" class=\"data row1 col0\" >Target</td>\n",
       "                        <td id=\"T_b2ce52be_a6fe_11eb_8d88_bcee7b9b3455row1_col1\" class=\"data row1 col1\" >adopted</td>\n",
       "            </tr>\n",
       "            <tr>\n",
       "                        <th id=\"T_b2ce52be_a6fe_11eb_8d88_bcee7b9b3455level0_row2\" class=\"row_heading level0 row2\" >2</th>\n",
       "                        <td id=\"T_b2ce52be_a6fe_11eb_8d88_bcee7b9b3455row2_col0\" class=\"data row2 col0\" >Target Type</td>\n",
       "                        <td id=\"T_b2ce52be_a6fe_11eb_8d88_bcee7b9b3455row2_col1\" class=\"data row2 col1\" >Binary</td>\n",
       "            </tr>\n",
       "            <tr>\n",
       "                        <th id=\"T_b2ce52be_a6fe_11eb_8d88_bcee7b9b3455level0_row3\" class=\"row_heading level0 row3\" >3</th>\n",
       "                        <td id=\"T_b2ce52be_a6fe_11eb_8d88_bcee7b9b3455row3_col0\" class=\"data row3 col0\" >Label Encoded</td>\n",
       "                        <td id=\"T_b2ce52be_a6fe_11eb_8d88_bcee7b9b3455row3_col1\" class=\"data row3 col1\" >None</td>\n",
       "            </tr>\n",
       "            <tr>\n",
       "                        <th id=\"T_b2ce52be_a6fe_11eb_8d88_bcee7b9b3455level0_row4\" class=\"row_heading level0 row4\" >4</th>\n",
       "                        <td id=\"T_b2ce52be_a6fe_11eb_8d88_bcee7b9b3455row4_col0\" class=\"data row4 col0\" >Original Data</td>\n",
       "                        <td id=\"T_b2ce52be_a6fe_11eb_8d88_bcee7b9b3455row4_col1\" class=\"data row4 col1\" >(9600, 5)</td>\n",
       "            </tr>\n",
       "            <tr>\n",
       "                        <th id=\"T_b2ce52be_a6fe_11eb_8d88_bcee7b9b3455level0_row5\" class=\"row_heading level0 row5\" >5</th>\n",
       "                        <td id=\"T_b2ce52be_a6fe_11eb_8d88_bcee7b9b3455row5_col0\" class=\"data row5 col0\" >Missing Values</td>\n",
       "                        <td id=\"T_b2ce52be_a6fe_11eb_8d88_bcee7b9b3455row5_col1\" class=\"data row5 col1\" >False</td>\n",
       "            </tr>\n",
       "            <tr>\n",
       "                        <th id=\"T_b2ce52be_a6fe_11eb_8d88_bcee7b9b3455level0_row6\" class=\"row_heading level0 row6\" >6</th>\n",
       "                        <td id=\"T_b2ce52be_a6fe_11eb_8d88_bcee7b9b3455row6_col0\" class=\"data row6 col0\" >Numeric Features</td>\n",
       "                        <td id=\"T_b2ce52be_a6fe_11eb_8d88_bcee7b9b3455row6_col1\" class=\"data row6 col1\" >1</td>\n",
       "            </tr>\n",
       "            <tr>\n",
       "                        <th id=\"T_b2ce52be_a6fe_11eb_8d88_bcee7b9b3455level0_row7\" class=\"row_heading level0 row7\" >7</th>\n",
       "                        <td id=\"T_b2ce52be_a6fe_11eb_8d88_bcee7b9b3455row7_col0\" class=\"data row7 col0\" >Categorical Features</td>\n",
       "                        <td id=\"T_b2ce52be_a6fe_11eb_8d88_bcee7b9b3455row7_col1\" class=\"data row7 col1\" >3</td>\n",
       "            </tr>\n",
       "            <tr>\n",
       "                        <th id=\"T_b2ce52be_a6fe_11eb_8d88_bcee7b9b3455level0_row8\" class=\"row_heading level0 row8\" >8</th>\n",
       "                        <td id=\"T_b2ce52be_a6fe_11eb_8d88_bcee7b9b3455row8_col0\" class=\"data row8 col0\" >Ordinal Features</td>\n",
       "                        <td id=\"T_b2ce52be_a6fe_11eb_8d88_bcee7b9b3455row8_col1\" class=\"data row8 col1\" >False</td>\n",
       "            </tr>\n",
       "            <tr>\n",
       "                        <th id=\"T_b2ce52be_a6fe_11eb_8d88_bcee7b9b3455level0_row9\" class=\"row_heading level0 row9\" >9</th>\n",
       "                        <td id=\"T_b2ce52be_a6fe_11eb_8d88_bcee7b9b3455row9_col0\" class=\"data row9 col0\" >High Cardinality Features</td>\n",
       "                        <td id=\"T_b2ce52be_a6fe_11eb_8d88_bcee7b9b3455row9_col1\" class=\"data row9 col1\" >False</td>\n",
       "            </tr>\n",
       "            <tr>\n",
       "                        <th id=\"T_b2ce52be_a6fe_11eb_8d88_bcee7b9b3455level0_row10\" class=\"row_heading level0 row10\" >10</th>\n",
       "                        <td id=\"T_b2ce52be_a6fe_11eb_8d88_bcee7b9b3455row10_col0\" class=\"data row10 col0\" >High Cardinality Method</td>\n",
       "                        <td id=\"T_b2ce52be_a6fe_11eb_8d88_bcee7b9b3455row10_col1\" class=\"data row10 col1\" >None</td>\n",
       "            </tr>\n",
       "            <tr>\n",
       "                        <th id=\"T_b2ce52be_a6fe_11eb_8d88_bcee7b9b3455level0_row11\" class=\"row_heading level0 row11\" >11</th>\n",
       "                        <td id=\"T_b2ce52be_a6fe_11eb_8d88_bcee7b9b3455row11_col0\" class=\"data row11 col0\" >Transformed Train Set</td>\n",
       "                        <td id=\"T_b2ce52be_a6fe_11eb_8d88_bcee7b9b3455row11_col1\" class=\"data row11 col1\" >(6719, 8)</td>\n",
       "            </tr>\n",
       "            <tr>\n",
       "                        <th id=\"T_b2ce52be_a6fe_11eb_8d88_bcee7b9b3455level0_row12\" class=\"row_heading level0 row12\" >12</th>\n",
       "                        <td id=\"T_b2ce52be_a6fe_11eb_8d88_bcee7b9b3455row12_col0\" class=\"data row12 col0\" >Transformed Test Set</td>\n",
       "                        <td id=\"T_b2ce52be_a6fe_11eb_8d88_bcee7b9b3455row12_col1\" class=\"data row12 col1\" >(2881, 8)</td>\n",
       "            </tr>\n",
       "            <tr>\n",
       "                        <th id=\"T_b2ce52be_a6fe_11eb_8d88_bcee7b9b3455level0_row13\" class=\"row_heading level0 row13\" >13</th>\n",
       "                        <td id=\"T_b2ce52be_a6fe_11eb_8d88_bcee7b9b3455row13_col0\" class=\"data row13 col0\" >Shuffle Train-Test</td>\n",
       "                        <td id=\"T_b2ce52be_a6fe_11eb_8d88_bcee7b9b3455row13_col1\" class=\"data row13 col1\" >True</td>\n",
       "            </tr>\n",
       "            <tr>\n",
       "                        <th id=\"T_b2ce52be_a6fe_11eb_8d88_bcee7b9b3455level0_row14\" class=\"row_heading level0 row14\" >14</th>\n",
       "                        <td id=\"T_b2ce52be_a6fe_11eb_8d88_bcee7b9b3455row14_col0\" class=\"data row14 col0\" >Stratify Train-Test</td>\n",
       "                        <td id=\"T_b2ce52be_a6fe_11eb_8d88_bcee7b9b3455row14_col1\" class=\"data row14 col1\" >False</td>\n",
       "            </tr>\n",
       "            <tr>\n",
       "                        <th id=\"T_b2ce52be_a6fe_11eb_8d88_bcee7b9b3455level0_row15\" class=\"row_heading level0 row15\" >15</th>\n",
       "                        <td id=\"T_b2ce52be_a6fe_11eb_8d88_bcee7b9b3455row15_col0\" class=\"data row15 col0\" >Fold Generator</td>\n",
       "                        <td id=\"T_b2ce52be_a6fe_11eb_8d88_bcee7b9b3455row15_col1\" class=\"data row15 col1\" >StratifiedKFold</td>\n",
       "            </tr>\n",
       "            <tr>\n",
       "                        <th id=\"T_b2ce52be_a6fe_11eb_8d88_bcee7b9b3455level0_row16\" class=\"row_heading level0 row16\" >16</th>\n",
       "                        <td id=\"T_b2ce52be_a6fe_11eb_8d88_bcee7b9b3455row16_col0\" class=\"data row16 col0\" >Fold Number</td>\n",
       "                        <td id=\"T_b2ce52be_a6fe_11eb_8d88_bcee7b9b3455row16_col1\" class=\"data row16 col1\" >10</td>\n",
       "            </tr>\n",
       "            <tr>\n",
       "                        <th id=\"T_b2ce52be_a6fe_11eb_8d88_bcee7b9b3455level0_row17\" class=\"row_heading level0 row17\" >17</th>\n",
       "                        <td id=\"T_b2ce52be_a6fe_11eb_8d88_bcee7b9b3455row17_col0\" class=\"data row17 col0\" >CPU Jobs</td>\n",
       "                        <td id=\"T_b2ce52be_a6fe_11eb_8d88_bcee7b9b3455row17_col1\" class=\"data row17 col1\" >-1</td>\n",
       "            </tr>\n",
       "            <tr>\n",
       "                        <th id=\"T_b2ce52be_a6fe_11eb_8d88_bcee7b9b3455level0_row18\" class=\"row_heading level0 row18\" >18</th>\n",
       "                        <td id=\"T_b2ce52be_a6fe_11eb_8d88_bcee7b9b3455row18_col0\" class=\"data row18 col0\" >Use GPU</td>\n",
       "                        <td id=\"T_b2ce52be_a6fe_11eb_8d88_bcee7b9b3455row18_col1\" class=\"data row18 col1\" >False</td>\n",
       "            </tr>\n",
       "            <tr>\n",
       "                        <th id=\"T_b2ce52be_a6fe_11eb_8d88_bcee7b9b3455level0_row19\" class=\"row_heading level0 row19\" >19</th>\n",
       "                        <td id=\"T_b2ce52be_a6fe_11eb_8d88_bcee7b9b3455row19_col0\" class=\"data row19 col0\" >Log Experiment</td>\n",
       "                        <td id=\"T_b2ce52be_a6fe_11eb_8d88_bcee7b9b3455row19_col1\" class=\"data row19 col1\" >False</td>\n",
       "            </tr>\n",
       "            <tr>\n",
       "                        <th id=\"T_b2ce52be_a6fe_11eb_8d88_bcee7b9b3455level0_row20\" class=\"row_heading level0 row20\" >20</th>\n",
       "                        <td id=\"T_b2ce52be_a6fe_11eb_8d88_bcee7b9b3455row20_col0\" class=\"data row20 col0\" >Experiment Name</td>\n",
       "                        <td id=\"T_b2ce52be_a6fe_11eb_8d88_bcee7b9b3455row20_col1\" class=\"data row20 col1\" >clf-default-name</td>\n",
       "            </tr>\n",
       "            <tr>\n",
       "                        <th id=\"T_b2ce52be_a6fe_11eb_8d88_bcee7b9b3455level0_row21\" class=\"row_heading level0 row21\" >21</th>\n",
       "                        <td id=\"T_b2ce52be_a6fe_11eb_8d88_bcee7b9b3455row21_col0\" class=\"data row21 col0\" >USI</td>\n",
       "                        <td id=\"T_b2ce52be_a6fe_11eb_8d88_bcee7b9b3455row21_col1\" class=\"data row21 col1\" >0f5d</td>\n",
       "            </tr>\n",
       "            <tr>\n",
       "                        <th id=\"T_b2ce52be_a6fe_11eb_8d88_bcee7b9b3455level0_row22\" class=\"row_heading level0 row22\" >22</th>\n",
       "                        <td id=\"T_b2ce52be_a6fe_11eb_8d88_bcee7b9b3455row22_col0\" class=\"data row22 col0\" >Imputation Type</td>\n",
       "                        <td id=\"T_b2ce52be_a6fe_11eb_8d88_bcee7b9b3455row22_col1\" class=\"data row22 col1\" >simple</td>\n",
       "            </tr>\n",
       "            <tr>\n",
       "                        <th id=\"T_b2ce52be_a6fe_11eb_8d88_bcee7b9b3455level0_row23\" class=\"row_heading level0 row23\" >23</th>\n",
       "                        <td id=\"T_b2ce52be_a6fe_11eb_8d88_bcee7b9b3455row23_col0\" class=\"data row23 col0\" >Iterative Imputation Iteration</td>\n",
       "                        <td id=\"T_b2ce52be_a6fe_11eb_8d88_bcee7b9b3455row23_col1\" class=\"data row23 col1\" >None</td>\n",
       "            </tr>\n",
       "            <tr>\n",
       "                        <th id=\"T_b2ce52be_a6fe_11eb_8d88_bcee7b9b3455level0_row24\" class=\"row_heading level0 row24\" >24</th>\n",
       "                        <td id=\"T_b2ce52be_a6fe_11eb_8d88_bcee7b9b3455row24_col0\" class=\"data row24 col0\" >Numeric Imputer</td>\n",
       "                        <td id=\"T_b2ce52be_a6fe_11eb_8d88_bcee7b9b3455row24_col1\" class=\"data row24 col1\" >mean</td>\n",
       "            </tr>\n",
       "            <tr>\n",
       "                        <th id=\"T_b2ce52be_a6fe_11eb_8d88_bcee7b9b3455level0_row25\" class=\"row_heading level0 row25\" >25</th>\n",
       "                        <td id=\"T_b2ce52be_a6fe_11eb_8d88_bcee7b9b3455row25_col0\" class=\"data row25 col0\" >Iterative Imputation Numeric Model</td>\n",
       "                        <td id=\"T_b2ce52be_a6fe_11eb_8d88_bcee7b9b3455row25_col1\" class=\"data row25 col1\" >None</td>\n",
       "            </tr>\n",
       "            <tr>\n",
       "                        <th id=\"T_b2ce52be_a6fe_11eb_8d88_bcee7b9b3455level0_row26\" class=\"row_heading level0 row26\" >26</th>\n",
       "                        <td id=\"T_b2ce52be_a6fe_11eb_8d88_bcee7b9b3455row26_col0\" class=\"data row26 col0\" >Categorical Imputer</td>\n",
       "                        <td id=\"T_b2ce52be_a6fe_11eb_8d88_bcee7b9b3455row26_col1\" class=\"data row26 col1\" >constant</td>\n",
       "            </tr>\n",
       "            <tr>\n",
       "                        <th id=\"T_b2ce52be_a6fe_11eb_8d88_bcee7b9b3455level0_row27\" class=\"row_heading level0 row27\" >27</th>\n",
       "                        <td id=\"T_b2ce52be_a6fe_11eb_8d88_bcee7b9b3455row27_col0\" class=\"data row27 col0\" >Iterative Imputation Categorical Model</td>\n",
       "                        <td id=\"T_b2ce52be_a6fe_11eb_8d88_bcee7b9b3455row27_col1\" class=\"data row27 col1\" >None</td>\n",
       "            </tr>\n",
       "            <tr>\n",
       "                        <th id=\"T_b2ce52be_a6fe_11eb_8d88_bcee7b9b3455level0_row28\" class=\"row_heading level0 row28\" >28</th>\n",
       "                        <td id=\"T_b2ce52be_a6fe_11eb_8d88_bcee7b9b3455row28_col0\" class=\"data row28 col0\" >Unknown Categoricals Handling</td>\n",
       "                        <td id=\"T_b2ce52be_a6fe_11eb_8d88_bcee7b9b3455row28_col1\" class=\"data row28 col1\" >least_frequent</td>\n",
       "            </tr>\n",
       "            <tr>\n",
       "                        <th id=\"T_b2ce52be_a6fe_11eb_8d88_bcee7b9b3455level0_row29\" class=\"row_heading level0 row29\" >29</th>\n",
       "                        <td id=\"T_b2ce52be_a6fe_11eb_8d88_bcee7b9b3455row29_col0\" class=\"data row29 col0\" >Normalize</td>\n",
       "                        <td id=\"T_b2ce52be_a6fe_11eb_8d88_bcee7b9b3455row29_col1\" class=\"data row29 col1\" >False</td>\n",
       "            </tr>\n",
       "            <tr>\n",
       "                        <th id=\"T_b2ce52be_a6fe_11eb_8d88_bcee7b9b3455level0_row30\" class=\"row_heading level0 row30\" >30</th>\n",
       "                        <td id=\"T_b2ce52be_a6fe_11eb_8d88_bcee7b9b3455row30_col0\" class=\"data row30 col0\" >Normalize Method</td>\n",
       "                        <td id=\"T_b2ce52be_a6fe_11eb_8d88_bcee7b9b3455row30_col1\" class=\"data row30 col1\" >None</td>\n",
       "            </tr>\n",
       "            <tr>\n",
       "                        <th id=\"T_b2ce52be_a6fe_11eb_8d88_bcee7b9b3455level0_row31\" class=\"row_heading level0 row31\" >31</th>\n",
       "                        <td id=\"T_b2ce52be_a6fe_11eb_8d88_bcee7b9b3455row31_col0\" class=\"data row31 col0\" >Transformation</td>\n",
       "                        <td id=\"T_b2ce52be_a6fe_11eb_8d88_bcee7b9b3455row31_col1\" class=\"data row31 col1\" >False</td>\n",
       "            </tr>\n",
       "            <tr>\n",
       "                        <th id=\"T_b2ce52be_a6fe_11eb_8d88_bcee7b9b3455level0_row32\" class=\"row_heading level0 row32\" >32</th>\n",
       "                        <td id=\"T_b2ce52be_a6fe_11eb_8d88_bcee7b9b3455row32_col0\" class=\"data row32 col0\" >Transformation Method</td>\n",
       "                        <td id=\"T_b2ce52be_a6fe_11eb_8d88_bcee7b9b3455row32_col1\" class=\"data row32 col1\" >None</td>\n",
       "            </tr>\n",
       "            <tr>\n",
       "                        <th id=\"T_b2ce52be_a6fe_11eb_8d88_bcee7b9b3455level0_row33\" class=\"row_heading level0 row33\" >33</th>\n",
       "                        <td id=\"T_b2ce52be_a6fe_11eb_8d88_bcee7b9b3455row33_col0\" class=\"data row33 col0\" >PCA</td>\n",
       "                        <td id=\"T_b2ce52be_a6fe_11eb_8d88_bcee7b9b3455row33_col1\" class=\"data row33 col1\" >False</td>\n",
       "            </tr>\n",
       "            <tr>\n",
       "                        <th id=\"T_b2ce52be_a6fe_11eb_8d88_bcee7b9b3455level0_row34\" class=\"row_heading level0 row34\" >34</th>\n",
       "                        <td id=\"T_b2ce52be_a6fe_11eb_8d88_bcee7b9b3455row34_col0\" class=\"data row34 col0\" >PCA Method</td>\n",
       "                        <td id=\"T_b2ce52be_a6fe_11eb_8d88_bcee7b9b3455row34_col1\" class=\"data row34 col1\" >None</td>\n",
       "            </tr>\n",
       "            <tr>\n",
       "                        <th id=\"T_b2ce52be_a6fe_11eb_8d88_bcee7b9b3455level0_row35\" class=\"row_heading level0 row35\" >35</th>\n",
       "                        <td id=\"T_b2ce52be_a6fe_11eb_8d88_bcee7b9b3455row35_col0\" class=\"data row35 col0\" >PCA Components</td>\n",
       "                        <td id=\"T_b2ce52be_a6fe_11eb_8d88_bcee7b9b3455row35_col1\" class=\"data row35 col1\" >None</td>\n",
       "            </tr>\n",
       "            <tr>\n",
       "                        <th id=\"T_b2ce52be_a6fe_11eb_8d88_bcee7b9b3455level0_row36\" class=\"row_heading level0 row36\" >36</th>\n",
       "                        <td id=\"T_b2ce52be_a6fe_11eb_8d88_bcee7b9b3455row36_col0\" class=\"data row36 col0\" >Ignore Low Variance</td>\n",
       "                        <td id=\"T_b2ce52be_a6fe_11eb_8d88_bcee7b9b3455row36_col1\" class=\"data row36 col1\" >False</td>\n",
       "            </tr>\n",
       "            <tr>\n",
       "                        <th id=\"T_b2ce52be_a6fe_11eb_8d88_bcee7b9b3455level0_row37\" class=\"row_heading level0 row37\" >37</th>\n",
       "                        <td id=\"T_b2ce52be_a6fe_11eb_8d88_bcee7b9b3455row37_col0\" class=\"data row37 col0\" >Combine Rare Levels</td>\n",
       "                        <td id=\"T_b2ce52be_a6fe_11eb_8d88_bcee7b9b3455row37_col1\" class=\"data row37 col1\" >False</td>\n",
       "            </tr>\n",
       "            <tr>\n",
       "                        <th id=\"T_b2ce52be_a6fe_11eb_8d88_bcee7b9b3455level0_row38\" class=\"row_heading level0 row38\" >38</th>\n",
       "                        <td id=\"T_b2ce52be_a6fe_11eb_8d88_bcee7b9b3455row38_col0\" class=\"data row38 col0\" >Rare Level Threshold</td>\n",
       "                        <td id=\"T_b2ce52be_a6fe_11eb_8d88_bcee7b9b3455row38_col1\" class=\"data row38 col1\" >None</td>\n",
       "            </tr>\n",
       "            <tr>\n",
       "                        <th id=\"T_b2ce52be_a6fe_11eb_8d88_bcee7b9b3455level0_row39\" class=\"row_heading level0 row39\" >39</th>\n",
       "                        <td id=\"T_b2ce52be_a6fe_11eb_8d88_bcee7b9b3455row39_col0\" class=\"data row39 col0\" >Numeric Binning</td>\n",
       "                        <td id=\"T_b2ce52be_a6fe_11eb_8d88_bcee7b9b3455row39_col1\" class=\"data row39 col1\" >False</td>\n",
       "            </tr>\n",
       "            <tr>\n",
       "                        <th id=\"T_b2ce52be_a6fe_11eb_8d88_bcee7b9b3455level0_row40\" class=\"row_heading level0 row40\" >40</th>\n",
       "                        <td id=\"T_b2ce52be_a6fe_11eb_8d88_bcee7b9b3455row40_col0\" class=\"data row40 col0\" >Remove Outliers</td>\n",
       "                        <td id=\"T_b2ce52be_a6fe_11eb_8d88_bcee7b9b3455row40_col1\" class=\"data row40 col1\" >False</td>\n",
       "            </tr>\n",
       "            <tr>\n",
       "                        <th id=\"T_b2ce52be_a6fe_11eb_8d88_bcee7b9b3455level0_row41\" class=\"row_heading level0 row41\" >41</th>\n",
       "                        <td id=\"T_b2ce52be_a6fe_11eb_8d88_bcee7b9b3455row41_col0\" class=\"data row41 col0\" >Outliers Threshold</td>\n",
       "                        <td id=\"T_b2ce52be_a6fe_11eb_8d88_bcee7b9b3455row41_col1\" class=\"data row41 col1\" >None</td>\n",
       "            </tr>\n",
       "            <tr>\n",
       "                        <th id=\"T_b2ce52be_a6fe_11eb_8d88_bcee7b9b3455level0_row42\" class=\"row_heading level0 row42\" >42</th>\n",
       "                        <td id=\"T_b2ce52be_a6fe_11eb_8d88_bcee7b9b3455row42_col0\" class=\"data row42 col0\" >Remove Multicollinearity</td>\n",
       "                        <td id=\"T_b2ce52be_a6fe_11eb_8d88_bcee7b9b3455row42_col1\" class=\"data row42 col1\" >False</td>\n",
       "            </tr>\n",
       "            <tr>\n",
       "                        <th id=\"T_b2ce52be_a6fe_11eb_8d88_bcee7b9b3455level0_row43\" class=\"row_heading level0 row43\" >43</th>\n",
       "                        <td id=\"T_b2ce52be_a6fe_11eb_8d88_bcee7b9b3455row43_col0\" class=\"data row43 col0\" >Multicollinearity Threshold</td>\n",
       "                        <td id=\"T_b2ce52be_a6fe_11eb_8d88_bcee7b9b3455row43_col1\" class=\"data row43 col1\" >None</td>\n",
       "            </tr>\n",
       "            <tr>\n",
       "                        <th id=\"T_b2ce52be_a6fe_11eb_8d88_bcee7b9b3455level0_row44\" class=\"row_heading level0 row44\" >44</th>\n",
       "                        <td id=\"T_b2ce52be_a6fe_11eb_8d88_bcee7b9b3455row44_col0\" class=\"data row44 col0\" >Clustering</td>\n",
       "                        <td id=\"T_b2ce52be_a6fe_11eb_8d88_bcee7b9b3455row44_col1\" class=\"data row44 col1\" >False</td>\n",
       "            </tr>\n",
       "            <tr>\n",
       "                        <th id=\"T_b2ce52be_a6fe_11eb_8d88_bcee7b9b3455level0_row45\" class=\"row_heading level0 row45\" >45</th>\n",
       "                        <td id=\"T_b2ce52be_a6fe_11eb_8d88_bcee7b9b3455row45_col0\" class=\"data row45 col0\" >Clustering Iteration</td>\n",
       "                        <td id=\"T_b2ce52be_a6fe_11eb_8d88_bcee7b9b3455row45_col1\" class=\"data row45 col1\" >None</td>\n",
       "            </tr>\n",
       "            <tr>\n",
       "                        <th id=\"T_b2ce52be_a6fe_11eb_8d88_bcee7b9b3455level0_row46\" class=\"row_heading level0 row46\" >46</th>\n",
       "                        <td id=\"T_b2ce52be_a6fe_11eb_8d88_bcee7b9b3455row46_col0\" class=\"data row46 col0\" >Polynomial Features</td>\n",
       "                        <td id=\"T_b2ce52be_a6fe_11eb_8d88_bcee7b9b3455row46_col1\" class=\"data row46 col1\" >False</td>\n",
       "            </tr>\n",
       "            <tr>\n",
       "                        <th id=\"T_b2ce52be_a6fe_11eb_8d88_bcee7b9b3455level0_row47\" class=\"row_heading level0 row47\" >47</th>\n",
       "                        <td id=\"T_b2ce52be_a6fe_11eb_8d88_bcee7b9b3455row47_col0\" class=\"data row47 col0\" >Polynomial Degree</td>\n",
       "                        <td id=\"T_b2ce52be_a6fe_11eb_8d88_bcee7b9b3455row47_col1\" class=\"data row47 col1\" >None</td>\n",
       "            </tr>\n",
       "            <tr>\n",
       "                        <th id=\"T_b2ce52be_a6fe_11eb_8d88_bcee7b9b3455level0_row48\" class=\"row_heading level0 row48\" >48</th>\n",
       "                        <td id=\"T_b2ce52be_a6fe_11eb_8d88_bcee7b9b3455row48_col0\" class=\"data row48 col0\" >Trignometry Features</td>\n",
       "                        <td id=\"T_b2ce52be_a6fe_11eb_8d88_bcee7b9b3455row48_col1\" class=\"data row48 col1\" >False</td>\n",
       "            </tr>\n",
       "            <tr>\n",
       "                        <th id=\"T_b2ce52be_a6fe_11eb_8d88_bcee7b9b3455level0_row49\" class=\"row_heading level0 row49\" >49</th>\n",
       "                        <td id=\"T_b2ce52be_a6fe_11eb_8d88_bcee7b9b3455row49_col0\" class=\"data row49 col0\" >Polynomial Threshold</td>\n",
       "                        <td id=\"T_b2ce52be_a6fe_11eb_8d88_bcee7b9b3455row49_col1\" class=\"data row49 col1\" >None</td>\n",
       "            </tr>\n",
       "            <tr>\n",
       "                        <th id=\"T_b2ce52be_a6fe_11eb_8d88_bcee7b9b3455level0_row50\" class=\"row_heading level0 row50\" >50</th>\n",
       "                        <td id=\"T_b2ce52be_a6fe_11eb_8d88_bcee7b9b3455row50_col0\" class=\"data row50 col0\" >Group Features</td>\n",
       "                        <td id=\"T_b2ce52be_a6fe_11eb_8d88_bcee7b9b3455row50_col1\" class=\"data row50 col1\" >False</td>\n",
       "            </tr>\n",
       "            <tr>\n",
       "                        <th id=\"T_b2ce52be_a6fe_11eb_8d88_bcee7b9b3455level0_row51\" class=\"row_heading level0 row51\" >51</th>\n",
       "                        <td id=\"T_b2ce52be_a6fe_11eb_8d88_bcee7b9b3455row51_col0\" class=\"data row51 col0\" >Feature Selection</td>\n",
       "                        <td id=\"T_b2ce52be_a6fe_11eb_8d88_bcee7b9b3455row51_col1\" class=\"data row51 col1\" >False</td>\n",
       "            </tr>\n",
       "            <tr>\n",
       "                        <th id=\"T_b2ce52be_a6fe_11eb_8d88_bcee7b9b3455level0_row52\" class=\"row_heading level0 row52\" >52</th>\n",
       "                        <td id=\"T_b2ce52be_a6fe_11eb_8d88_bcee7b9b3455row52_col0\" class=\"data row52 col0\" >Features Selection Threshold</td>\n",
       "                        <td id=\"T_b2ce52be_a6fe_11eb_8d88_bcee7b9b3455row52_col1\" class=\"data row52 col1\" >None</td>\n",
       "            </tr>\n",
       "            <tr>\n",
       "                        <th id=\"T_b2ce52be_a6fe_11eb_8d88_bcee7b9b3455level0_row53\" class=\"row_heading level0 row53\" >53</th>\n",
       "                        <td id=\"T_b2ce52be_a6fe_11eb_8d88_bcee7b9b3455row53_col0\" class=\"data row53 col0\" >Feature Interaction</td>\n",
       "                        <td id=\"T_b2ce52be_a6fe_11eb_8d88_bcee7b9b3455row53_col1\" class=\"data row53 col1\" >False</td>\n",
       "            </tr>\n",
       "            <tr>\n",
       "                        <th id=\"T_b2ce52be_a6fe_11eb_8d88_bcee7b9b3455level0_row54\" class=\"row_heading level0 row54\" >54</th>\n",
       "                        <td id=\"T_b2ce52be_a6fe_11eb_8d88_bcee7b9b3455row54_col0\" class=\"data row54 col0\" >Feature Ratio</td>\n",
       "                        <td id=\"T_b2ce52be_a6fe_11eb_8d88_bcee7b9b3455row54_col1\" class=\"data row54 col1\" >False</td>\n",
       "            </tr>\n",
       "            <tr>\n",
       "                        <th id=\"T_b2ce52be_a6fe_11eb_8d88_bcee7b9b3455level0_row55\" class=\"row_heading level0 row55\" >55</th>\n",
       "                        <td id=\"T_b2ce52be_a6fe_11eb_8d88_bcee7b9b3455row55_col0\" class=\"data row55 col0\" >Interaction Threshold</td>\n",
       "                        <td id=\"T_b2ce52be_a6fe_11eb_8d88_bcee7b9b3455row55_col1\" class=\"data row55 col1\" >None</td>\n",
       "            </tr>\n",
       "            <tr>\n",
       "                        <th id=\"T_b2ce52be_a6fe_11eb_8d88_bcee7b9b3455level0_row56\" class=\"row_heading level0 row56\" >56</th>\n",
       "                        <td id=\"T_b2ce52be_a6fe_11eb_8d88_bcee7b9b3455row56_col0\" class=\"data row56 col0\" >Fix Imbalance</td>\n",
       "                        <td id=\"T_b2ce52be_a6fe_11eb_8d88_bcee7b9b3455row56_col1\" class=\"data row56 col1\" >False</td>\n",
       "            </tr>\n",
       "            <tr>\n",
       "                        <th id=\"T_b2ce52be_a6fe_11eb_8d88_bcee7b9b3455level0_row57\" class=\"row_heading level0 row57\" >57</th>\n",
       "                        <td id=\"T_b2ce52be_a6fe_11eb_8d88_bcee7b9b3455row57_col0\" class=\"data row57 col0\" >Fix Imbalance Method</td>\n",
       "                        <td id=\"T_b2ce52be_a6fe_11eb_8d88_bcee7b9b3455row57_col1\" class=\"data row57 col1\" >SMOTE</td>\n",
       "            </tr>\n",
       "    </tbody></table>"
      ],
      "text/plain": [
       "<pandas.io.formats.style.Styler at 0x1f8b96a0>"
      ]
     },
     "metadata": {},
     "output_type": "display_data"
    }
   ],
   "source": [
    "clf_setup = setup(\n",
    "    data=data,\n",
    "    target='adopted',\n",
    ")"
   ]
  },
  {
   "cell_type": "code",
   "execution_count": 40,
   "metadata": {
    "ExecuteTime": {
     "end_time": "2021-04-27T02:18:14.043209Z",
     "start_time": "2021-04-27T02:17:21.822222Z"
    }
   },
   "outputs": [
    {
     "data": {
      "text/html": [
       "<style  type=\"text/css\" >\n",
       "    #T_d20336c8_a6fe_11eb_9b3d_bcee7b9b3455 th {\n",
       "          text-align: left;\n",
       "    }#T_d20336c8_a6fe_11eb_9b3d_bcee7b9b3455row0_col0,#T_d20336c8_a6fe_11eb_9b3d_bcee7b9b3455row0_col2,#T_d20336c8_a6fe_11eb_9b3d_bcee7b9b3455row0_col3,#T_d20336c8_a6fe_11eb_9b3d_bcee7b9b3455row0_col4,#T_d20336c8_a6fe_11eb_9b3d_bcee7b9b3455row0_col5,#T_d20336c8_a6fe_11eb_9b3d_bcee7b9b3455row0_col6,#T_d20336c8_a6fe_11eb_9b3d_bcee7b9b3455row0_col7,#T_d20336c8_a6fe_11eb_9b3d_bcee7b9b3455row1_col0,#T_d20336c8_a6fe_11eb_9b3d_bcee7b9b3455row1_col3,#T_d20336c8_a6fe_11eb_9b3d_bcee7b9b3455row1_col4,#T_d20336c8_a6fe_11eb_9b3d_bcee7b9b3455row1_col5,#T_d20336c8_a6fe_11eb_9b3d_bcee7b9b3455row1_col6,#T_d20336c8_a6fe_11eb_9b3d_bcee7b9b3455row1_col7,#T_d20336c8_a6fe_11eb_9b3d_bcee7b9b3455row2_col0,#T_d20336c8_a6fe_11eb_9b3d_bcee7b9b3455row2_col2,#T_d20336c8_a6fe_11eb_9b3d_bcee7b9b3455row2_col3,#T_d20336c8_a6fe_11eb_9b3d_bcee7b9b3455row2_col4,#T_d20336c8_a6fe_11eb_9b3d_bcee7b9b3455row2_col5,#T_d20336c8_a6fe_11eb_9b3d_bcee7b9b3455row2_col6,#T_d20336c8_a6fe_11eb_9b3d_bcee7b9b3455row2_col7,#T_d20336c8_a6fe_11eb_9b3d_bcee7b9b3455row3_col0,#T_d20336c8_a6fe_11eb_9b3d_bcee7b9b3455row3_col2,#T_d20336c8_a6fe_11eb_9b3d_bcee7b9b3455row3_col3,#T_d20336c8_a6fe_11eb_9b3d_bcee7b9b3455row3_col4,#T_d20336c8_a6fe_11eb_9b3d_bcee7b9b3455row3_col5,#T_d20336c8_a6fe_11eb_9b3d_bcee7b9b3455row3_col6,#T_d20336c8_a6fe_11eb_9b3d_bcee7b9b3455row3_col7,#T_d20336c8_a6fe_11eb_9b3d_bcee7b9b3455row4_col0,#T_d20336c8_a6fe_11eb_9b3d_bcee7b9b3455row4_col1,#T_d20336c8_a6fe_11eb_9b3d_bcee7b9b3455row4_col2,#T_d20336c8_a6fe_11eb_9b3d_bcee7b9b3455row4_col3,#T_d20336c8_a6fe_11eb_9b3d_bcee7b9b3455row4_col4,#T_d20336c8_a6fe_11eb_9b3d_bcee7b9b3455row4_col5,#T_d20336c8_a6fe_11eb_9b3d_bcee7b9b3455row4_col6,#T_d20336c8_a6fe_11eb_9b3d_bcee7b9b3455row4_col7,#T_d20336c8_a6fe_11eb_9b3d_bcee7b9b3455row5_col0,#T_d20336c8_a6fe_11eb_9b3d_bcee7b9b3455row5_col1,#T_d20336c8_a6fe_11eb_9b3d_bcee7b9b3455row5_col2,#T_d20336c8_a6fe_11eb_9b3d_bcee7b9b3455row5_col3,#T_d20336c8_a6fe_11eb_9b3d_bcee7b9b3455row5_col4,#T_d20336c8_a6fe_11eb_9b3d_bcee7b9b3455row5_col5,#T_d20336c8_a6fe_11eb_9b3d_bcee7b9b3455row5_col6,#T_d20336c8_a6fe_11eb_9b3d_bcee7b9b3455row5_col7,#T_d20336c8_a6fe_11eb_9b3d_bcee7b9b3455row6_col0,#T_d20336c8_a6fe_11eb_9b3d_bcee7b9b3455row6_col1,#T_d20336c8_a6fe_11eb_9b3d_bcee7b9b3455row6_col2,#T_d20336c8_a6fe_11eb_9b3d_bcee7b9b3455row6_col3,#T_d20336c8_a6fe_11eb_9b3d_bcee7b9b3455row6_col4,#T_d20336c8_a6fe_11eb_9b3d_bcee7b9b3455row6_col5,#T_d20336c8_a6fe_11eb_9b3d_bcee7b9b3455row6_col6,#T_d20336c8_a6fe_11eb_9b3d_bcee7b9b3455row6_col7,#T_d20336c8_a6fe_11eb_9b3d_bcee7b9b3455row7_col0,#T_d20336c8_a6fe_11eb_9b3d_bcee7b9b3455row7_col1,#T_d20336c8_a6fe_11eb_9b3d_bcee7b9b3455row7_col2,#T_d20336c8_a6fe_11eb_9b3d_bcee7b9b3455row7_col3,#T_d20336c8_a6fe_11eb_9b3d_bcee7b9b3455row7_col4,#T_d20336c8_a6fe_11eb_9b3d_bcee7b9b3455row7_col5,#T_d20336c8_a6fe_11eb_9b3d_bcee7b9b3455row7_col6,#T_d20336c8_a6fe_11eb_9b3d_bcee7b9b3455row7_col7,#T_d20336c8_a6fe_11eb_9b3d_bcee7b9b3455row8_col0,#T_d20336c8_a6fe_11eb_9b3d_bcee7b9b3455row8_col1,#T_d20336c8_a6fe_11eb_9b3d_bcee7b9b3455row8_col2,#T_d20336c8_a6fe_11eb_9b3d_bcee7b9b3455row8_col3,#T_d20336c8_a6fe_11eb_9b3d_bcee7b9b3455row8_col4,#T_d20336c8_a6fe_11eb_9b3d_bcee7b9b3455row8_col5,#T_d20336c8_a6fe_11eb_9b3d_bcee7b9b3455row8_col6,#T_d20336c8_a6fe_11eb_9b3d_bcee7b9b3455row8_col7,#T_d20336c8_a6fe_11eb_9b3d_bcee7b9b3455row9_col0,#T_d20336c8_a6fe_11eb_9b3d_bcee7b9b3455row9_col1,#T_d20336c8_a6fe_11eb_9b3d_bcee7b9b3455row9_col2,#T_d20336c8_a6fe_11eb_9b3d_bcee7b9b3455row9_col3,#T_d20336c8_a6fe_11eb_9b3d_bcee7b9b3455row9_col4,#T_d20336c8_a6fe_11eb_9b3d_bcee7b9b3455row9_col5,#T_d20336c8_a6fe_11eb_9b3d_bcee7b9b3455row9_col6,#T_d20336c8_a6fe_11eb_9b3d_bcee7b9b3455row9_col7,#T_d20336c8_a6fe_11eb_9b3d_bcee7b9b3455row10_col0,#T_d20336c8_a6fe_11eb_9b3d_bcee7b9b3455row10_col1,#T_d20336c8_a6fe_11eb_9b3d_bcee7b9b3455row10_col2,#T_d20336c8_a6fe_11eb_9b3d_bcee7b9b3455row10_col3,#T_d20336c8_a6fe_11eb_9b3d_bcee7b9b3455row10_col4,#T_d20336c8_a6fe_11eb_9b3d_bcee7b9b3455row10_col5,#T_d20336c8_a6fe_11eb_9b3d_bcee7b9b3455row10_col6,#T_d20336c8_a6fe_11eb_9b3d_bcee7b9b3455row10_col7,#T_d20336c8_a6fe_11eb_9b3d_bcee7b9b3455row11_col0,#T_d20336c8_a6fe_11eb_9b3d_bcee7b9b3455row11_col1,#T_d20336c8_a6fe_11eb_9b3d_bcee7b9b3455row11_col2,#T_d20336c8_a6fe_11eb_9b3d_bcee7b9b3455row11_col3,#T_d20336c8_a6fe_11eb_9b3d_bcee7b9b3455row11_col4,#T_d20336c8_a6fe_11eb_9b3d_bcee7b9b3455row11_col5,#T_d20336c8_a6fe_11eb_9b3d_bcee7b9b3455row11_col6,#T_d20336c8_a6fe_11eb_9b3d_bcee7b9b3455row11_col7,#T_d20336c8_a6fe_11eb_9b3d_bcee7b9b3455row12_col0,#T_d20336c8_a6fe_11eb_9b3d_bcee7b9b3455row12_col1,#T_d20336c8_a6fe_11eb_9b3d_bcee7b9b3455row12_col2,#T_d20336c8_a6fe_11eb_9b3d_bcee7b9b3455row12_col3,#T_d20336c8_a6fe_11eb_9b3d_bcee7b9b3455row12_col5,#T_d20336c8_a6fe_11eb_9b3d_bcee7b9b3455row13_col0,#T_d20336c8_a6fe_11eb_9b3d_bcee7b9b3455row13_col1,#T_d20336c8_a6fe_11eb_9b3d_bcee7b9b3455row13_col2,#T_d20336c8_a6fe_11eb_9b3d_bcee7b9b3455row13_col3,#T_d20336c8_a6fe_11eb_9b3d_bcee7b9b3455row13_col4,#T_d20336c8_a6fe_11eb_9b3d_bcee7b9b3455row13_col5,#T_d20336c8_a6fe_11eb_9b3d_bcee7b9b3455row13_col6,#T_d20336c8_a6fe_11eb_9b3d_bcee7b9b3455row13_col7,#T_d20336c8_a6fe_11eb_9b3d_bcee7b9b3455row14_col0,#T_d20336c8_a6fe_11eb_9b3d_bcee7b9b3455row14_col1,#T_d20336c8_a6fe_11eb_9b3d_bcee7b9b3455row14_col2,#T_d20336c8_a6fe_11eb_9b3d_bcee7b9b3455row14_col4,#T_d20336c8_a6fe_11eb_9b3d_bcee7b9b3455row14_col6,#T_d20336c8_a6fe_11eb_9b3d_bcee7b9b3455row14_col7{\n",
       "            text-align:  left;\n",
       "            text-align:  left;\n",
       "        }#T_d20336c8_a6fe_11eb_9b3d_bcee7b9b3455row0_col1,#T_d20336c8_a6fe_11eb_9b3d_bcee7b9b3455row1_col1,#T_d20336c8_a6fe_11eb_9b3d_bcee7b9b3455row1_col2,#T_d20336c8_a6fe_11eb_9b3d_bcee7b9b3455row2_col1,#T_d20336c8_a6fe_11eb_9b3d_bcee7b9b3455row3_col1,#T_d20336c8_a6fe_11eb_9b3d_bcee7b9b3455row12_col4,#T_d20336c8_a6fe_11eb_9b3d_bcee7b9b3455row12_col6,#T_d20336c8_a6fe_11eb_9b3d_bcee7b9b3455row12_col7,#T_d20336c8_a6fe_11eb_9b3d_bcee7b9b3455row14_col3,#T_d20336c8_a6fe_11eb_9b3d_bcee7b9b3455row14_col5{\n",
       "            text-align:  left;\n",
       "            text-align:  left;\n",
       "            background-color:  yellow;\n",
       "        }#T_d20336c8_a6fe_11eb_9b3d_bcee7b9b3455row0_col8,#T_d20336c8_a6fe_11eb_9b3d_bcee7b9b3455row2_col8,#T_d20336c8_a6fe_11eb_9b3d_bcee7b9b3455row3_col8,#T_d20336c8_a6fe_11eb_9b3d_bcee7b9b3455row4_col8,#T_d20336c8_a6fe_11eb_9b3d_bcee7b9b3455row5_col8,#T_d20336c8_a6fe_11eb_9b3d_bcee7b9b3455row6_col8,#T_d20336c8_a6fe_11eb_9b3d_bcee7b9b3455row7_col8,#T_d20336c8_a6fe_11eb_9b3d_bcee7b9b3455row8_col8,#T_d20336c8_a6fe_11eb_9b3d_bcee7b9b3455row9_col8,#T_d20336c8_a6fe_11eb_9b3d_bcee7b9b3455row10_col8,#T_d20336c8_a6fe_11eb_9b3d_bcee7b9b3455row11_col8,#T_d20336c8_a6fe_11eb_9b3d_bcee7b9b3455row12_col8,#T_d20336c8_a6fe_11eb_9b3d_bcee7b9b3455row13_col8,#T_d20336c8_a6fe_11eb_9b3d_bcee7b9b3455row14_col8{\n",
       "            text-align:  left;\n",
       "            text-align:  left;\n",
       "            background-color:  lightgrey;\n",
       "        }#T_d20336c8_a6fe_11eb_9b3d_bcee7b9b3455row1_col8{\n",
       "            text-align:  left;\n",
       "            text-align:  left;\n",
       "            background-color:  yellow;\n",
       "            background-color:  lightgrey;\n",
       "        }</style><table id=\"T_d20336c8_a6fe_11eb_9b3d_bcee7b9b3455\" ><thead>    <tr>        <th class=\"blank level0\" ></th>        <th class=\"col_heading level0 col0\" >Model</th>        <th class=\"col_heading level0 col1\" >Accuracy</th>        <th class=\"col_heading level0 col2\" >AUC</th>        <th class=\"col_heading level0 col3\" >Recall</th>        <th class=\"col_heading level0 col4\" >Prec.</th>        <th class=\"col_heading level0 col5\" >F1</th>        <th class=\"col_heading level0 col6\" >Kappa</th>        <th class=\"col_heading level0 col7\" >MCC</th>        <th class=\"col_heading level0 col8\" >TT (Sec)</th>    </tr></thead><tbody>\n",
       "                <tr>\n",
       "                        <th id=\"T_d20336c8_a6fe_11eb_9b3d_bcee7b9b3455level0_row0\" class=\"row_heading level0 row0\" >lr</th>\n",
       "                        <td id=\"T_d20336c8_a6fe_11eb_9b3d_bcee7b9b3455row0_col0\" class=\"data row0 col0\" >Logistic Regression</td>\n",
       "                        <td id=\"T_d20336c8_a6fe_11eb_9b3d_bcee7b9b3455row0_col1\" class=\"data row0 col1\" >0.8662</td>\n",
       "                        <td id=\"T_d20336c8_a6fe_11eb_9b3d_bcee7b9b3455row0_col2\" class=\"data row0 col2\" >0.5547</td>\n",
       "                        <td id=\"T_d20336c8_a6fe_11eb_9b3d_bcee7b9b3455row0_col3\" class=\"data row0 col3\" >0.0000</td>\n",
       "                        <td id=\"T_d20336c8_a6fe_11eb_9b3d_bcee7b9b3455row0_col4\" class=\"data row0 col4\" >0.0000</td>\n",
       "                        <td id=\"T_d20336c8_a6fe_11eb_9b3d_bcee7b9b3455row0_col5\" class=\"data row0 col5\" >0.0000</td>\n",
       "                        <td id=\"T_d20336c8_a6fe_11eb_9b3d_bcee7b9b3455row0_col6\" class=\"data row0 col6\" >0.0000</td>\n",
       "                        <td id=\"T_d20336c8_a6fe_11eb_9b3d_bcee7b9b3455row0_col7\" class=\"data row0 col7\" >0.0000</td>\n",
       "                        <td id=\"T_d20336c8_a6fe_11eb_9b3d_bcee7b9b3455row0_col8\" class=\"data row0 col8\" >0.4740</td>\n",
       "            </tr>\n",
       "            <tr>\n",
       "                        <th id=\"T_d20336c8_a6fe_11eb_9b3d_bcee7b9b3455level0_row1\" class=\"row_heading level0 row1\" >nb</th>\n",
       "                        <td id=\"T_d20336c8_a6fe_11eb_9b3d_bcee7b9b3455row1_col0\" class=\"data row1 col0\" >Naive Bayes</td>\n",
       "                        <td id=\"T_d20336c8_a6fe_11eb_9b3d_bcee7b9b3455row1_col1\" class=\"data row1 col1\" >0.8662</td>\n",
       "                        <td id=\"T_d20336c8_a6fe_11eb_9b3d_bcee7b9b3455row1_col2\" class=\"data row1 col2\" >0.5698</td>\n",
       "                        <td id=\"T_d20336c8_a6fe_11eb_9b3d_bcee7b9b3455row1_col3\" class=\"data row1 col3\" >0.0000</td>\n",
       "                        <td id=\"T_d20336c8_a6fe_11eb_9b3d_bcee7b9b3455row1_col4\" class=\"data row1 col4\" >0.0000</td>\n",
       "                        <td id=\"T_d20336c8_a6fe_11eb_9b3d_bcee7b9b3455row1_col5\" class=\"data row1 col5\" >0.0000</td>\n",
       "                        <td id=\"T_d20336c8_a6fe_11eb_9b3d_bcee7b9b3455row1_col6\" class=\"data row1 col6\" >0.0000</td>\n",
       "                        <td id=\"T_d20336c8_a6fe_11eb_9b3d_bcee7b9b3455row1_col7\" class=\"data row1 col7\" >0.0000</td>\n",
       "                        <td id=\"T_d20336c8_a6fe_11eb_9b3d_bcee7b9b3455row1_col8\" class=\"data row1 col8\" >0.0120</td>\n",
       "            </tr>\n",
       "            <tr>\n",
       "                        <th id=\"T_d20336c8_a6fe_11eb_9b3d_bcee7b9b3455level0_row2\" class=\"row_heading level0 row2\" >ridge</th>\n",
       "                        <td id=\"T_d20336c8_a6fe_11eb_9b3d_bcee7b9b3455row2_col0\" class=\"data row2 col0\" >Ridge Classifier</td>\n",
       "                        <td id=\"T_d20336c8_a6fe_11eb_9b3d_bcee7b9b3455row2_col1\" class=\"data row2 col1\" >0.8662</td>\n",
       "                        <td id=\"T_d20336c8_a6fe_11eb_9b3d_bcee7b9b3455row2_col2\" class=\"data row2 col2\" >0.0000</td>\n",
       "                        <td id=\"T_d20336c8_a6fe_11eb_9b3d_bcee7b9b3455row2_col3\" class=\"data row2 col3\" >0.0000</td>\n",
       "                        <td id=\"T_d20336c8_a6fe_11eb_9b3d_bcee7b9b3455row2_col4\" class=\"data row2 col4\" >0.0000</td>\n",
       "                        <td id=\"T_d20336c8_a6fe_11eb_9b3d_bcee7b9b3455row2_col5\" class=\"data row2 col5\" >0.0000</td>\n",
       "                        <td id=\"T_d20336c8_a6fe_11eb_9b3d_bcee7b9b3455row2_col6\" class=\"data row2 col6\" >0.0000</td>\n",
       "                        <td id=\"T_d20336c8_a6fe_11eb_9b3d_bcee7b9b3455row2_col7\" class=\"data row2 col7\" >0.0000</td>\n",
       "                        <td id=\"T_d20336c8_a6fe_11eb_9b3d_bcee7b9b3455row2_col8\" class=\"data row2 col8\" >0.0140</td>\n",
       "            </tr>\n",
       "            <tr>\n",
       "                        <th id=\"T_d20336c8_a6fe_11eb_9b3d_bcee7b9b3455level0_row3\" class=\"row_heading level0 row3\" >lda</th>\n",
       "                        <td id=\"T_d20336c8_a6fe_11eb_9b3d_bcee7b9b3455row3_col0\" class=\"data row3 col0\" >Linear Discriminant Analysis</td>\n",
       "                        <td id=\"T_d20336c8_a6fe_11eb_9b3d_bcee7b9b3455row3_col1\" class=\"data row3 col1\" >0.8662</td>\n",
       "                        <td id=\"T_d20336c8_a6fe_11eb_9b3d_bcee7b9b3455row3_col2\" class=\"data row3 col2\" >0.5654</td>\n",
       "                        <td id=\"T_d20336c8_a6fe_11eb_9b3d_bcee7b9b3455row3_col3\" class=\"data row3 col3\" >0.0000</td>\n",
       "                        <td id=\"T_d20336c8_a6fe_11eb_9b3d_bcee7b9b3455row3_col4\" class=\"data row3 col4\" >0.0000</td>\n",
       "                        <td id=\"T_d20336c8_a6fe_11eb_9b3d_bcee7b9b3455row3_col5\" class=\"data row3 col5\" >0.0000</td>\n",
       "                        <td id=\"T_d20336c8_a6fe_11eb_9b3d_bcee7b9b3455row3_col6\" class=\"data row3 col6\" >0.0000</td>\n",
       "                        <td id=\"T_d20336c8_a6fe_11eb_9b3d_bcee7b9b3455row3_col7\" class=\"data row3 col7\" >0.0000</td>\n",
       "                        <td id=\"T_d20336c8_a6fe_11eb_9b3d_bcee7b9b3455row3_col8\" class=\"data row3 col8\" >0.0150</td>\n",
       "            </tr>\n",
       "            <tr>\n",
       "                        <th id=\"T_d20336c8_a6fe_11eb_9b3d_bcee7b9b3455level0_row4\" class=\"row_heading level0 row4\" >ada</th>\n",
       "                        <td id=\"T_d20336c8_a6fe_11eb_9b3d_bcee7b9b3455row4_col0\" class=\"data row4 col0\" >Ada Boost Classifier</td>\n",
       "                        <td id=\"T_d20336c8_a6fe_11eb_9b3d_bcee7b9b3455row4_col1\" class=\"data row4 col1\" >0.8661</td>\n",
       "                        <td id=\"T_d20336c8_a6fe_11eb_9b3d_bcee7b9b3455row4_col2\" class=\"data row4 col2\" >0.5528</td>\n",
       "                        <td id=\"T_d20336c8_a6fe_11eb_9b3d_bcee7b9b3455row4_col3\" class=\"data row4 col3\" >0.0000</td>\n",
       "                        <td id=\"T_d20336c8_a6fe_11eb_9b3d_bcee7b9b3455row4_col4\" class=\"data row4 col4\" >0.0000</td>\n",
       "                        <td id=\"T_d20336c8_a6fe_11eb_9b3d_bcee7b9b3455row4_col5\" class=\"data row4 col5\" >0.0000</td>\n",
       "                        <td id=\"T_d20336c8_a6fe_11eb_9b3d_bcee7b9b3455row4_col6\" class=\"data row4 col6\" >-0.0003</td>\n",
       "                        <td id=\"T_d20336c8_a6fe_11eb_9b3d_bcee7b9b3455row4_col7\" class=\"data row4 col7\" >-0.0015</td>\n",
       "                        <td id=\"T_d20336c8_a6fe_11eb_9b3d_bcee7b9b3455row4_col8\" class=\"data row4 col8\" >0.0760</td>\n",
       "            </tr>\n",
       "            <tr>\n",
       "                        <th id=\"T_d20336c8_a6fe_11eb_9b3d_bcee7b9b3455level0_row5\" class=\"row_heading level0 row5\" >catboost</th>\n",
       "                        <td id=\"T_d20336c8_a6fe_11eb_9b3d_bcee7b9b3455row5_col0\" class=\"data row5 col0\" >CatBoost Classifier</td>\n",
       "                        <td id=\"T_d20336c8_a6fe_11eb_9b3d_bcee7b9b3455row5_col1\" class=\"data row5 col1\" >0.8655</td>\n",
       "                        <td id=\"T_d20336c8_a6fe_11eb_9b3d_bcee7b9b3455row5_col2\" class=\"data row5 col2\" >0.5474</td>\n",
       "                        <td id=\"T_d20336c8_a6fe_11eb_9b3d_bcee7b9b3455row5_col3\" class=\"data row5 col3\" >0.0022</td>\n",
       "                        <td id=\"T_d20336c8_a6fe_11eb_9b3d_bcee7b9b3455row5_col4\" class=\"data row5 col4\" >0.0833</td>\n",
       "                        <td id=\"T_d20336c8_a6fe_11eb_9b3d_bcee7b9b3455row5_col5\" class=\"data row5 col5\" >0.0043</td>\n",
       "                        <td id=\"T_d20336c8_a6fe_11eb_9b3d_bcee7b9b3455row5_col6\" class=\"data row5 col6\" >0.0017</td>\n",
       "                        <td id=\"T_d20336c8_a6fe_11eb_9b3d_bcee7b9b3455row5_col7\" class=\"data row5 col7\" >0.0056</td>\n",
       "                        <td id=\"T_d20336c8_a6fe_11eb_9b3d_bcee7b9b3455row5_col8\" class=\"data row5 col8\" >3.0860</td>\n",
       "            </tr>\n",
       "            <tr>\n",
       "                        <th id=\"T_d20336c8_a6fe_11eb_9b3d_bcee7b9b3455level0_row6\" class=\"row_heading level0 row6\" >gbc</th>\n",
       "                        <td id=\"T_d20336c8_a6fe_11eb_9b3d_bcee7b9b3455row6_col0\" class=\"data row6 col0\" >Gradient Boosting Classifier</td>\n",
       "                        <td id=\"T_d20336c8_a6fe_11eb_9b3d_bcee7b9b3455row6_col1\" class=\"data row6 col1\" >0.8649</td>\n",
       "                        <td id=\"T_d20336c8_a6fe_11eb_9b3d_bcee7b9b3455row6_col2\" class=\"data row6 col2\" >0.5542</td>\n",
       "                        <td id=\"T_d20336c8_a6fe_11eb_9b3d_bcee7b9b3455row6_col3\" class=\"data row6 col3\" >0.0011</td>\n",
       "                        <td id=\"T_d20336c8_a6fe_11eb_9b3d_bcee7b9b3455row6_col4\" class=\"data row6 col4\" >0.0333</td>\n",
       "                        <td id=\"T_d20336c8_a6fe_11eb_9b3d_bcee7b9b3455row6_col5\" class=\"data row6 col5\" >0.0022</td>\n",
       "                        <td id=\"T_d20336c8_a6fe_11eb_9b3d_bcee7b9b3455row6_col6\" class=\"data row6 col6\" >-0.0010</td>\n",
       "                        <td id=\"T_d20336c8_a6fe_11eb_9b3d_bcee7b9b3455row6_col7\" class=\"data row6 col7\" >-0.0035</td>\n",
       "                        <td id=\"T_d20336c8_a6fe_11eb_9b3d_bcee7b9b3455row6_col8\" class=\"data row6 col8\" >0.0990</td>\n",
       "            </tr>\n",
       "            <tr>\n",
       "                        <th id=\"T_d20336c8_a6fe_11eb_9b3d_bcee7b9b3455level0_row7\" class=\"row_heading level0 row7\" >lightgbm</th>\n",
       "                        <td id=\"T_d20336c8_a6fe_11eb_9b3d_bcee7b9b3455row7_col0\" class=\"data row7 col0\" >Light Gradient Boosting Machine</td>\n",
       "                        <td id=\"T_d20336c8_a6fe_11eb_9b3d_bcee7b9b3455row7_col1\" class=\"data row7 col1\" >0.8644</td>\n",
       "                        <td id=\"T_d20336c8_a6fe_11eb_9b3d_bcee7b9b3455row7_col2\" class=\"data row7 col2\" >0.5485</td>\n",
       "                        <td id=\"T_d20336c8_a6fe_11eb_9b3d_bcee7b9b3455row7_col3\" class=\"data row7 col3\" >0.0011</td>\n",
       "                        <td id=\"T_d20336c8_a6fe_11eb_9b3d_bcee7b9b3455row7_col4\" class=\"data row7 col4\" >0.0500</td>\n",
       "                        <td id=\"T_d20336c8_a6fe_11eb_9b3d_bcee7b9b3455row7_col5\" class=\"data row7 col5\" >0.0022</td>\n",
       "                        <td id=\"T_d20336c8_a6fe_11eb_9b3d_bcee7b9b3455row7_col6\" class=\"data row7 col6\" >-0.0019</td>\n",
       "                        <td id=\"T_d20336c8_a6fe_11eb_9b3d_bcee7b9b3455row7_col7\" class=\"data row7 col7\" >-0.0056</td>\n",
       "                        <td id=\"T_d20336c8_a6fe_11eb_9b3d_bcee7b9b3455row7_col8\" class=\"data row7 col8\" >0.0490</td>\n",
       "            </tr>\n",
       "            <tr>\n",
       "                        <th id=\"T_d20336c8_a6fe_11eb_9b3d_bcee7b9b3455level0_row8\" class=\"row_heading level0 row8\" >xgboost</th>\n",
       "                        <td id=\"T_d20336c8_a6fe_11eb_9b3d_bcee7b9b3455row8_col0\" class=\"data row8 col0\" >Extreme Gradient Boosting</td>\n",
       "                        <td id=\"T_d20336c8_a6fe_11eb_9b3d_bcee7b9b3455row8_col1\" class=\"data row8 col1\" >0.8600</td>\n",
       "                        <td id=\"T_d20336c8_a6fe_11eb_9b3d_bcee7b9b3455row8_col2\" class=\"data row8 col2\" >0.5426</td>\n",
       "                        <td id=\"T_d20336c8_a6fe_11eb_9b3d_bcee7b9b3455row8_col3\" class=\"data row8 col3\" >0.0033</td>\n",
       "                        <td id=\"T_d20336c8_a6fe_11eb_9b3d_bcee7b9b3455row8_col4\" class=\"data row8 col4\" >0.0767</td>\n",
       "                        <td id=\"T_d20336c8_a6fe_11eb_9b3d_bcee7b9b3455row8_col5\" class=\"data row8 col5\" >0.0063</td>\n",
       "                        <td id=\"T_d20336c8_a6fe_11eb_9b3d_bcee7b9b3455row8_col6\" class=\"data row8 col6\" >-0.0072</td>\n",
       "                        <td id=\"T_d20336c8_a6fe_11eb_9b3d_bcee7b9b3455row8_col7\" class=\"data row8 col7\" >-0.0157</td>\n",
       "                        <td id=\"T_d20336c8_a6fe_11eb_9b3d_bcee7b9b3455row8_col8\" class=\"data row8 col8\" >0.4630</td>\n",
       "            </tr>\n",
       "            <tr>\n",
       "                        <th id=\"T_d20336c8_a6fe_11eb_9b3d_bcee7b9b3455level0_row9\" class=\"row_heading level0 row9\" >et</th>\n",
       "                        <td id=\"T_d20336c8_a6fe_11eb_9b3d_bcee7b9b3455row9_col0\" class=\"data row9 col0\" >Extra Trees Classifier</td>\n",
       "                        <td id=\"T_d20336c8_a6fe_11eb_9b3d_bcee7b9b3455row9_col1\" class=\"data row9 col1\" >0.8187</td>\n",
       "                        <td id=\"T_d20336c8_a6fe_11eb_9b3d_bcee7b9b3455row9_col2\" class=\"data row9 col2\" >0.5151</td>\n",
       "                        <td id=\"T_d20336c8_a6fe_11eb_9b3d_bcee7b9b3455row9_col3\" class=\"data row9 col3\" >0.0689</td>\n",
       "                        <td id=\"T_d20336c8_a6fe_11eb_9b3d_bcee7b9b3455row9_col4\" class=\"data row9 col4\" >0.1396</td>\n",
       "                        <td id=\"T_d20336c8_a6fe_11eb_9b3d_bcee7b9b3455row9_col5\" class=\"data row9 col5\" >0.0917</td>\n",
       "                        <td id=\"T_d20336c8_a6fe_11eb_9b3d_bcee7b9b3455row9_col6\" class=\"data row9 col6\" >0.0043</td>\n",
       "                        <td id=\"T_d20336c8_a6fe_11eb_9b3d_bcee7b9b3455row9_col7\" class=\"data row9 col7\" >0.0046</td>\n",
       "                        <td id=\"T_d20336c8_a6fe_11eb_9b3d_bcee7b9b3455row9_col8\" class=\"data row9 col8\" >0.2300</td>\n",
       "            </tr>\n",
       "            <tr>\n",
       "                        <th id=\"T_d20336c8_a6fe_11eb_9b3d_bcee7b9b3455level0_row10\" class=\"row_heading level0 row10\" >dt</th>\n",
       "                        <td id=\"T_d20336c8_a6fe_11eb_9b3d_bcee7b9b3455row10_col0\" class=\"data row10 col0\" >Decision Tree Classifier</td>\n",
       "                        <td id=\"T_d20336c8_a6fe_11eb_9b3d_bcee7b9b3455row10_col1\" class=\"data row10 col1\" >0.8175</td>\n",
       "                        <td id=\"T_d20336c8_a6fe_11eb_9b3d_bcee7b9b3455row10_col2\" class=\"data row10 col2\" >0.5025</td>\n",
       "                        <td id=\"T_d20336c8_a6fe_11eb_9b3d_bcee7b9b3455row10_col3\" class=\"data row10 col3\" >0.0600</td>\n",
       "                        <td id=\"T_d20336c8_a6fe_11eb_9b3d_bcee7b9b3455row10_col4\" class=\"data row10 col4\" >0.1245</td>\n",
       "                        <td id=\"T_d20336c8_a6fe_11eb_9b3d_bcee7b9b3455row10_col5\" class=\"data row10 col5\" >0.0807</td>\n",
       "                        <td id=\"T_d20336c8_a6fe_11eb_9b3d_bcee7b9b3455row10_col6\" class=\"data row10 col6\" >-0.0068</td>\n",
       "                        <td id=\"T_d20336c8_a6fe_11eb_9b3d_bcee7b9b3455row10_col7\" class=\"data row10 col7\" >-0.0073</td>\n",
       "                        <td id=\"T_d20336c8_a6fe_11eb_9b3d_bcee7b9b3455row10_col8\" class=\"data row10 col8\" >0.0140</td>\n",
       "            </tr>\n",
       "            <tr>\n",
       "                        <th id=\"T_d20336c8_a6fe_11eb_9b3d_bcee7b9b3455level0_row11\" class=\"row_heading level0 row11\" >rf</th>\n",
       "                        <td id=\"T_d20336c8_a6fe_11eb_9b3d_bcee7b9b3455row11_col0\" class=\"data row11 col0\" >Random Forest Classifier</td>\n",
       "                        <td id=\"T_d20336c8_a6fe_11eb_9b3d_bcee7b9b3455row11_col1\" class=\"data row11 col1\" >0.8160</td>\n",
       "                        <td id=\"T_d20336c8_a6fe_11eb_9b3d_bcee7b9b3455row11_col2\" class=\"data row11 col2\" >0.5201</td>\n",
       "                        <td id=\"T_d20336c8_a6fe_11eb_9b3d_bcee7b9b3455row11_col3\" class=\"data row11 col3\" >0.0656</td>\n",
       "                        <td id=\"T_d20336c8_a6fe_11eb_9b3d_bcee7b9b3455row11_col4\" class=\"data row11 col4\" >0.1308</td>\n",
       "                        <td id=\"T_d20336c8_a6fe_11eb_9b3d_bcee7b9b3455row11_col5\" class=\"data row11 col5\" >0.0869</td>\n",
       "                        <td id=\"T_d20336c8_a6fe_11eb_9b3d_bcee7b9b3455row11_col6\" class=\"data row11 col6\" >-0.0029</td>\n",
       "                        <td id=\"T_d20336c8_a6fe_11eb_9b3d_bcee7b9b3455row11_col7\" class=\"data row11 col7\" >-0.0029</td>\n",
       "                        <td id=\"T_d20336c8_a6fe_11eb_9b3d_bcee7b9b3455row11_col8\" class=\"data row11 col8\" >0.2400</td>\n",
       "            </tr>\n",
       "            <tr>\n",
       "                        <th id=\"T_d20336c8_a6fe_11eb_9b3d_bcee7b9b3455level0_row12\" class=\"row_heading level0 row12\" >knn</th>\n",
       "                        <td id=\"T_d20336c8_a6fe_11eb_9b3d_bcee7b9b3455row12_col0\" class=\"data row12 col0\" >K Neighbors Classifier</td>\n",
       "                        <td id=\"T_d20336c8_a6fe_11eb_9b3d_bcee7b9b3455row12_col1\" class=\"data row12 col1\" >0.7662</td>\n",
       "                        <td id=\"T_d20336c8_a6fe_11eb_9b3d_bcee7b9b3455row12_col2\" class=\"data row12 col2\" >0.5097</td>\n",
       "                        <td id=\"T_d20336c8_a6fe_11eb_9b3d_bcee7b9b3455row12_col3\" class=\"data row12 col3\" >0.1557</td>\n",
       "                        <td id=\"T_d20336c8_a6fe_11eb_9b3d_bcee7b9b3455row12_col4\" class=\"data row12 col4\" >0.1549</td>\n",
       "                        <td id=\"T_d20336c8_a6fe_11eb_9b3d_bcee7b9b3455row12_col5\" class=\"data row12 col5\" >0.1365</td>\n",
       "                        <td id=\"T_d20336c8_a6fe_11eb_9b3d_bcee7b9b3455row12_col6\" class=\"data row12 col6\" >0.0180</td>\n",
       "                        <td id=\"T_d20336c8_a6fe_11eb_9b3d_bcee7b9b3455row12_col7\" class=\"data row12 col7\" >0.0188</td>\n",
       "                        <td id=\"T_d20336c8_a6fe_11eb_9b3d_bcee7b9b3455row12_col8\" class=\"data row12 col8\" >0.0630</td>\n",
       "            </tr>\n",
       "            <tr>\n",
       "                        <th id=\"T_d20336c8_a6fe_11eb_9b3d_bcee7b9b3455level0_row13\" class=\"row_heading level0 row13\" >svm</th>\n",
       "                        <td id=\"T_d20336c8_a6fe_11eb_9b3d_bcee7b9b3455row13_col0\" class=\"data row13 col0\" >SVM - Linear Kernel</td>\n",
       "                        <td id=\"T_d20336c8_a6fe_11eb_9b3d_bcee7b9b3455row13_col1\" class=\"data row13 col1\" >0.7159</td>\n",
       "                        <td id=\"T_d20336c8_a6fe_11eb_9b3d_bcee7b9b3455row13_col2\" class=\"data row13 col2\" >0.0000</td>\n",
       "                        <td id=\"T_d20336c8_a6fe_11eb_9b3d_bcee7b9b3455row13_col3\" class=\"data row13 col3\" >0.2356</td>\n",
       "                        <td id=\"T_d20336c8_a6fe_11eb_9b3d_bcee7b9b3455row13_col4\" class=\"data row13 col4\" >0.0592</td>\n",
       "                        <td id=\"T_d20336c8_a6fe_11eb_9b3d_bcee7b9b3455row13_col5\" class=\"data row13 col5\" >0.0946</td>\n",
       "                        <td id=\"T_d20336c8_a6fe_11eb_9b3d_bcee7b9b3455row13_col6\" class=\"data row13 col6\" >0.0114</td>\n",
       "                        <td id=\"T_d20336c8_a6fe_11eb_9b3d_bcee7b9b3455row13_col7\" class=\"data row13 col7\" >0.0175</td>\n",
       "                        <td id=\"T_d20336c8_a6fe_11eb_9b3d_bcee7b9b3455row13_col8\" class=\"data row13 col8\" >0.0190</td>\n",
       "            </tr>\n",
       "            <tr>\n",
       "                        <th id=\"T_d20336c8_a6fe_11eb_9b3d_bcee7b9b3455level0_row14\" class=\"row_heading level0 row14\" >qda</th>\n",
       "                        <td id=\"T_d20336c8_a6fe_11eb_9b3d_bcee7b9b3455row14_col0\" class=\"data row14 col0\" >Quadratic Discriminant Analysis</td>\n",
       "                        <td id=\"T_d20336c8_a6fe_11eb_9b3d_bcee7b9b3455row14_col1\" class=\"data row14 col1\" >0.6080</td>\n",
       "                        <td id=\"T_d20336c8_a6fe_11eb_9b3d_bcee7b9b3455row14_col2\" class=\"data row14 col2\" >0.5138</td>\n",
       "                        <td id=\"T_d20336c8_a6fe_11eb_9b3d_bcee7b9b3455row14_col3\" class=\"data row14 col3\" >0.3605</td>\n",
       "                        <td id=\"T_d20336c8_a6fe_11eb_9b3d_bcee7b9b3455row14_col4\" class=\"data row14 col4\" >0.1421</td>\n",
       "                        <td id=\"T_d20336c8_a6fe_11eb_9b3d_bcee7b9b3455row14_col5\" class=\"data row14 col5\" >0.1788</td>\n",
       "                        <td id=\"T_d20336c8_a6fe_11eb_9b3d_bcee7b9b3455row14_col6\" class=\"data row14 col6\" >0.0130</td>\n",
       "                        <td id=\"T_d20336c8_a6fe_11eb_9b3d_bcee7b9b3455row14_col7\" class=\"data row14 col7\" >0.0053</td>\n",
       "                        <td id=\"T_d20336c8_a6fe_11eb_9b3d_bcee7b9b3455row14_col8\" class=\"data row14 col8\" >0.0160</td>\n",
       "            </tr>\n",
       "    </tbody></table>"
      ],
      "text/plain": [
       "<pandas.io.formats.style.Styler at 0x12b7a320>"
      ]
     },
     "metadata": {},
     "output_type": "display_data"
    }
   ],
   "source": [
    "compare = compare_models()"
   ]
  },
  {
   "cell_type": "code",
   "execution_count": 41,
   "metadata": {
    "ExecuteTime": {
     "end_time": "2021-04-27T02:18:14.677245Z",
     "start_time": "2021-04-27T02:18:14.045209Z"
    }
   },
   "outputs": [
    {
     "ename": "ValueError",
     "evalue": "Estimator lgbm not available. Please see docstring for list of available estimators.",
     "output_type": "error",
     "traceback": [
      "\u001b[1;31m---------------------------------------------------------------------------\u001b[0m",
      "\u001b[1;31mValueError\u001b[0m                                Traceback (most recent call last)",
      "\u001b[1;32m<ipython-input-41-ea9aceba133d>\u001b[0m in \u001b[0;36m<module>\u001b[1;34m\u001b[0m\n\u001b[1;32m----> 1\u001b[1;33m \u001b[0mlgbm\u001b[0m \u001b[1;33m=\u001b[0m \u001b[0mcreate_model\u001b[0m\u001b[1;33m(\u001b[0m\u001b[1;34m'lgbm'\u001b[0m\u001b[1;33m)\u001b[0m\u001b[1;33m\u001b[0m\u001b[1;33m\u001b[0m\u001b[0m\n\u001b[0m",
      "\u001b[1;32mC:\\ProgramData\\Anaconda3\\lib\\site-packages\\pycaret\\classification.py\u001b[0m in \u001b[0;36mcreate_model\u001b[1;34m(estimator, fold, round, cross_validation, fit_kwargs, groups, verbose, **kwargs)\u001b[0m\n\u001b[0;32m    895\u001b[0m         \u001b[0mgroups\u001b[0m\u001b[1;33m=\u001b[0m\u001b[0mgroups\u001b[0m\u001b[1;33m,\u001b[0m\u001b[1;33m\u001b[0m\u001b[1;33m\u001b[0m\u001b[0m\n\u001b[0;32m    896\u001b[0m         \u001b[0mverbose\u001b[0m\u001b[1;33m=\u001b[0m\u001b[0mverbose\u001b[0m\u001b[1;33m,\u001b[0m\u001b[1;33m\u001b[0m\u001b[1;33m\u001b[0m\u001b[0m\n\u001b[1;32m--> 897\u001b[1;33m         \u001b[1;33m**\u001b[0m\u001b[0mkwargs\u001b[0m\u001b[1;33m,\u001b[0m\u001b[1;33m\u001b[0m\u001b[1;33m\u001b[0m\u001b[0m\n\u001b[0m\u001b[0;32m    898\u001b[0m     )\n\u001b[0;32m    899\u001b[0m \u001b[1;33m\u001b[0m\u001b[0m\n",
      "\u001b[1;32mC:\\ProgramData\\Anaconda3\\lib\\site-packages\\pycaret\\internal\\tabular.py\u001b[0m in \u001b[0;36mcreate_model_supervised\u001b[1;34m(estimator, fold, round, cross_validation, predict, fit_kwargs, groups, refit, verbose, system, X_train_data, y_train_data, metrics, display, **kwargs)\u001b[0m\n\u001b[0;32m   2870\u001b[0m         \u001b[1;32mif\u001b[0m \u001b[0mestimator\u001b[0m \u001b[1;32mnot\u001b[0m \u001b[1;32min\u001b[0m \u001b[0mavailable_estimators\u001b[0m\u001b[1;33m:\u001b[0m\u001b[1;33m\u001b[0m\u001b[1;33m\u001b[0m\u001b[0m\n\u001b[0;32m   2871\u001b[0m             raise ValueError(\n\u001b[1;32m-> 2872\u001b[1;33m                 \u001b[1;34mf\"Estimator {estimator} not available. Please see docstring for list of available estimators.\"\u001b[0m\u001b[1;33m\u001b[0m\u001b[1;33m\u001b[0m\u001b[0m\n\u001b[0m\u001b[0;32m   2873\u001b[0m             )\n\u001b[0;32m   2874\u001b[0m     \u001b[1;32melif\u001b[0m \u001b[1;32mnot\u001b[0m \u001b[0mhasattr\u001b[0m\u001b[1;33m(\u001b[0m\u001b[0mestimator\u001b[0m\u001b[1;33m,\u001b[0m \u001b[1;34m\"fit\"\u001b[0m\u001b[1;33m)\u001b[0m\u001b[1;33m:\u001b[0m\u001b[1;33m\u001b[0m\u001b[1;33m\u001b[0m\u001b[0m\n",
      "\u001b[1;31mValueError\u001b[0m: Estimator lgbm not available. Please see docstring for list of available estimators."
     ]
    }
   ],
   "source": [
    "lgbm = create_model('lgbm')"
   ]
  },
  {
   "cell_type": "code",
   "execution_count": null,
   "metadata": {
    "ExecuteTime": {
     "end_time": "2021-04-27T02:18:14.685246Z",
     "start_time": "2021-04-27T02:12:18.482Z"
    },
    "cell_style": "center"
   },
   "outputs": [],
   "source": [
    "plot_model(lgbm, plot=\"confusion_matrix\")"
   ]
  },
  {
   "cell_type": "code",
   "execution_count": null,
   "metadata": {
    "ExecuteTime": {
     "end_time": "2021-04-27T02:18:14.686246Z",
     "start_time": "2021-04-27T02:12:18.483Z"
    },
    "cell_style": "center"
   },
   "outputs": [],
   "source": [
    "plot_model(lgbm, plot='feature')"
   ]
  },
  {
   "cell_type": "code",
   "execution_count": null,
   "metadata": {
    "ExecuteTime": {
     "end_time": "2021-04-19T23:16:05.086899Z",
     "start_time": "2021-04-19T23:16:04.608872Z"
    }
   },
   "outputs": [],
   "source": []
  },
  {
   "cell_type": "code",
   "execution_count": null,
   "metadata": {
    "ExecuteTime": {
     "end_time": "2021-04-19T23:16:05.101900Z",
     "start_time": "2021-04-19T23:13:43.298Z"
    }
   },
   "outputs": [],
   "source": []
  },
  {
   "cell_type": "code",
   "execution_count": null,
   "metadata": {
    "ExecuteTime": {
     "end_time": "2021-04-19T23:16:05.106900Z",
     "start_time": "2021-04-19T23:13:43.300Z"
    }
   },
   "outputs": [],
   "source": []
  },
  {
   "cell_type": "code",
   "execution_count": null,
   "metadata": {
    "ExecuteTime": {
     "end_time": "2021-04-19T16:23:53.290321Z",
     "start_time": "2021-04-19T16:23:53.052308Z"
    }
   },
   "outputs": [],
   "source": []
  },
  {
   "cell_type": "code",
   "execution_count": null,
   "metadata": {},
   "outputs": [],
   "source": []
  },
  {
   "cell_type": "code",
   "execution_count": null,
   "metadata": {},
   "outputs": [],
   "source": []
  },
  {
   "cell_type": "code",
   "execution_count": null,
   "metadata": {},
   "outputs": [],
   "source": []
  },
  {
   "cell_type": "code",
   "execution_count": null,
   "metadata": {},
   "outputs": [],
   "source": []
  },
  {
   "cell_type": "code",
   "execution_count": null,
   "metadata": {},
   "outputs": [],
   "source": []
  },
  {
   "cell_type": "code",
   "execution_count": null,
   "metadata": {},
   "outputs": [],
   "source": []
  },
  {
   "cell_type": "code",
   "execution_count": null,
   "metadata": {},
   "outputs": [],
   "source": []
  }
 ],
 "metadata": {
  "kernelspec": {
   "display_name": "Python 3",
   "language": "python",
   "name": "python3"
  },
  "language_info": {
   "codemirror_mode": {
    "name": "ipython",
    "version": 3
   },
   "file_extension": ".py",
   "mimetype": "text/x-python",
   "name": "python",
   "nbconvert_exporter": "python",
   "pygments_lexer": "ipython3",
   "version": "3.6.12"
  },
  "varInspector": {
   "cols": {
    "lenName": 16,
    "lenType": 16,
    "lenVar": 40
   },
   "kernels_config": {
    "python": {
     "delete_cmd_postfix": "",
     "delete_cmd_prefix": "del ",
     "library": "var_list.py",
     "varRefreshCmd": "print(var_dic_list())"
    },
    "r": {
     "delete_cmd_postfix": ") ",
     "delete_cmd_prefix": "rm(",
     "library": "var_list.r",
     "varRefreshCmd": "cat(var_dic_list()) "
    }
   },
   "types_to_exclude": [
    "module",
    "function",
    "builtin_function_or_method",
    "instance",
    "_Feature"
   ],
   "window_display": false
  }
 },
 "nbformat": 4,
 "nbformat_minor": 4
}
